{
 "cells": [
  {
   "cell_type": "markdown",
   "metadata": {},
   "source": [
    "## Testing Autor results"
   ]
  },
  {
   "cell_type": "markdown",
   "metadata": {},
   "source": [
    "First I am going to use his same process to get data"
   ]
  },
  {
   "cell_type": "code",
   "execution_count": 95,
   "metadata": {},
   "outputs": [],
   "source": [
    "import pandas as pd\n",
    "import numpy as np\n",
    "import matplotlib.pyplot as plt\n",
    "import random\n",
    "import math\n",
    "import statistics\n",
    "import datetime\n",
    "import scipy.optimize as spopt\n",
    "import datetime\n",
    "import warnings\n"
   ]
  },
  {
   "cell_type": "code",
   "execution_count": 96,
   "metadata": {},
   "outputs": [],
   "source": [
    "user=1\n",
    "if user ==1:\n",
    "    path = \"/Users/lucadaquanno/Desktop/Documents/CIOS.Analyse/Return_forecasting/tests/Conditional_bootstrapping/Test_2/\""
   ]
  },
  {
   "cell_type": "markdown",
   "metadata": {},
   "source": [
    "## Input generation"
   ]
  },
  {
   "cell_type": "code",
   "execution_count": 97,
   "metadata": {},
   "outputs": [],
   "source": [
    "X=pd.read_excel(path+\"test_Entropy_min_prob2.xlsx\",header=None)\n",
    "J=X.shape[0]"
   ]
  },
  {
   "cell_type": "code",
   "execution_count": 98,
   "metadata": {},
   "outputs": [
    {
     "data": {
      "text/plain": [
       "2008-01-31    0.1\n",
       "2008-02-01    0.1\n",
       "2008-02-04    0.1\n",
       "2008-02-05    0.1\n",
       "2008-02-06    0.1\n",
       "2008-02-07    0.1\n",
       "2008-02-08    0.1\n",
       "2008-02-11    0.1\n",
       "2008-02-12    0.1\n",
       "2008-02-13    0.1\n",
       "Freq: B, dtype: float64"
      ]
     },
     "execution_count": 98,
     "metadata": {},
     "output_type": "execute_result"
    }
   ],
   "source": [
    "X.columns=['Stock1','Stock2']\n",
    "start=datetime.datetime(2008,1,31)\n",
    "end=datetime.datetime(2023,2,28)\n",
    "t_index=pd.bdate_range(start,end)[:J]\n",
    "X.index=t_index\n",
    "X\n",
    "p_0 = pd.Series(np.ones(J)/J,index=X.index) #equally weighted prior\n",
    "p_0\n"
   ]
  },
  {
   "cell_type": "code",
   "execution_count": 129,
   "metadata": {},
   "outputs": [],
   "source": [
    "Q=np.array([1,-1 ])\n",
    "Mu_Q=np.array([.5,0.3])\n",
    "G=np.array([1,-1])\n"
   ]
  },
  {
   "cell_type": "code",
   "execution_count": 131,
   "metadata": {},
   "outputs": [
    {
     "data": {
      "text/plain": [
       "0.6799999999999999"
      ]
     },
     "execution_count": 131,
     "metadata": {},
     "output_type": "execute_result"
    }
   ],
   "source": [
    "SecMom=G.T.dot(Mu_Q.T.dot(Mu_Q)).dot(G)\n",
    "SecMom\n"
   ]
  },
  {
   "cell_type": "code",
   "execution_count": 100,
   "metadata": {},
   "outputs": [],
   "source": [
    "H=pd.DataFrame(np.ones(len(p_0)),index=p_0.index,columns=['ones']).T\n",
    "h=pd.Series([1],index=H.index)"
   ]
  },
  {
   "cell_type": "code",
   "execution_count": 101,
   "metadata": {},
   "outputs": [],
   "source": [
    "Q=pd.DataFrame([1,-1],index=X.columns).T # positive view on the first asset class, negative view on the second\n",
    "Mu_Q=pd.Series(0.5)  # %expectation on market returns\n",
    "QX=X.dot(Q.T)\n",
    "G=pd.DataFrame([-1,1],index=X.columns).T  # views on the covariances\n",
    "Sigma_G=.5**2; # constraint on the second moment\n",
    "GX=X.dot(G.T)\n"
   ]
  },
  {
   "cell_type": "code",
   "execution_count": 102,
   "metadata": {},
   "outputs": [
    {
     "data": {
      "text/html": [
       "<div>\n",
       "<style scoped>\n",
       "    .dataframe tbody tr th:only-of-type {\n",
       "        vertical-align: middle;\n",
       "    }\n",
       "\n",
       "    .dataframe tbody tr th {\n",
       "        vertical-align: top;\n",
       "    }\n",
       "\n",
       "    .dataframe thead th {\n",
       "        text-align: right;\n",
       "    }\n",
       "</style>\n",
       "<table border=\"1\" class=\"dataframe\">\n",
       "  <thead>\n",
       "    <tr style=\"text-align: right;\">\n",
       "      <th></th>\n",
       "      <th>0</th>\n",
       "    </tr>\n",
       "  </thead>\n",
       "  <tbody>\n",
       "    <tr>\n",
       "      <th>2008-01-31</th>\n",
       "      <td>1.26122</td>\n",
       "    </tr>\n",
       "    <tr>\n",
       "      <th>2008-02-01</th>\n",
       "      <td>1.08044</td>\n",
       "    </tr>\n",
       "    <tr>\n",
       "      <th>2008-02-04</th>\n",
       "      <td>-1.17760</td>\n",
       "    </tr>\n",
       "    <tr>\n",
       "      <th>2008-02-05</th>\n",
       "      <td>-2.51783</td>\n",
       "    </tr>\n",
       "    <tr>\n",
       "      <th>2008-02-06</th>\n",
       "      <td>-2.08803</td>\n",
       "    </tr>\n",
       "    <tr>\n",
       "      <th>2008-02-07</th>\n",
       "      <td>-1.26122</td>\n",
       "    </tr>\n",
       "    <tr>\n",
       "      <th>2008-02-08</th>\n",
       "      <td>-1.08044</td>\n",
       "    </tr>\n",
       "    <tr>\n",
       "      <th>2008-02-11</th>\n",
       "      <td>1.17760</td>\n",
       "    </tr>\n",
       "    <tr>\n",
       "      <th>2008-02-12</th>\n",
       "      <td>2.51783</td>\n",
       "    </tr>\n",
       "    <tr>\n",
       "      <th>2008-02-13</th>\n",
       "      <td>2.08803</td>\n",
       "    </tr>\n",
       "  </tbody>\n",
       "</table>\n",
       "</div>"
      ],
      "text/plain": [
       "                  0\n",
       "2008-01-31  1.26122\n",
       "2008-02-01  1.08044\n",
       "2008-02-04 -1.17760\n",
       "2008-02-05 -2.51783\n",
       "2008-02-06 -2.08803\n",
       "2008-02-07 -1.26122\n",
       "2008-02-08 -1.08044\n",
       "2008-02-11  1.17760\n",
       "2008-02-12  2.51783\n",
       "2008-02-13  2.08803"
      ]
     },
     "execution_count": 102,
     "metadata": {},
     "output_type": "execute_result"
    }
   ],
   "source": [
    "QX"
   ]
  },
  {
   "cell_type": "code",
   "execution_count": 103,
   "metadata": {},
   "outputs": [
    {
     "data": {
      "text/html": [
       "<div>\n",
       "<style scoped>\n",
       "    .dataframe tbody tr th:only-of-type {\n",
       "        vertical-align: middle;\n",
       "    }\n",
       "\n",
       "    .dataframe tbody tr th {\n",
       "        vertical-align: top;\n",
       "    }\n",
       "\n",
       "    .dataframe thead th {\n",
       "        text-align: right;\n",
       "    }\n",
       "</style>\n",
       "<table border=\"1\" class=\"dataframe\">\n",
       "  <thead>\n",
       "    <tr style=\"text-align: right;\">\n",
       "      <th></th>\n",
       "      <th>2008-01-31</th>\n",
       "      <th>2008-02-01</th>\n",
       "      <th>2008-02-04</th>\n",
       "      <th>2008-02-05</th>\n",
       "      <th>2008-02-06</th>\n",
       "      <th>2008-02-07</th>\n",
       "      <th>2008-02-08</th>\n",
       "      <th>2008-02-11</th>\n",
       "      <th>2008-02-12</th>\n",
       "      <th>2008-02-13</th>\n",
       "    </tr>\n",
       "  </thead>\n",
       "  <tbody>\n",
       "    <tr>\n",
       "      <th>first_constraint</th>\n",
       "      <td>1.26122</td>\n",
       "      <td>1.08044</td>\n",
       "      <td>-1.1776</td>\n",
       "      <td>-2.51783</td>\n",
       "      <td>-2.08803</td>\n",
       "      <td>-1.26122</td>\n",
       "      <td>-1.08044</td>\n",
       "      <td>1.1776</td>\n",
       "      <td>2.51783</td>\n",
       "      <td>2.08803</td>\n",
       "    </tr>\n",
       "    <tr>\n",
       "      <th>second_constraint</th>\n",
       "      <td>NaN</td>\n",
       "      <td>NaN</td>\n",
       "      <td>NaN</td>\n",
       "      <td>NaN</td>\n",
       "      <td>NaN</td>\n",
       "      <td>NaN</td>\n",
       "      <td>NaN</td>\n",
       "      <td>NaN</td>\n",
       "      <td>NaN</td>\n",
       "      <td>NaN</td>\n",
       "    </tr>\n",
       "  </tbody>\n",
       "</table>\n",
       "</div>"
      ],
      "text/plain": [
       "                  2008-01-31 2008-02-01 2008-02-04 2008-02-05 2008-02-06  \\\n",
       "first_constraint     1.26122    1.08044    -1.1776   -2.51783   -2.08803   \n",
       "second_constraint        NaN        NaN        NaN        NaN        NaN   \n",
       "\n",
       "                  2008-02-07 2008-02-08 2008-02-11 2008-02-12 2008-02-13  \n",
       "first_constraint    -1.26122   -1.08044     1.1776    2.51783    2.08803  \n",
       "second_constraint        NaN        NaN        NaN        NaN        NaN  "
      ]
     },
     "execution_count": 103,
     "metadata": {},
     "output_type": "execute_result"
    }
   ],
   "source": [
    "F=pd.DataFrame(columns=X.index,index=['first_constraint','second_constraint'])\n",
    "F.loc['first_constraint']=QX.T.values\n",
    "F\n",
    "\n"
   ]
  },
  {
   "cell_type": "code",
   "execution_count": 104,
   "metadata": {},
   "outputs": [
    {
     "ename": "SyntaxError",
     "evalue": "invalid syntax (1663612274.py, line 3)",
     "output_type": "error",
     "traceback": [
      "\u001b[0;36m  Input \u001b[0;32mIn [104]\u001b[0;36m\u001b[0m\n\u001b[0;31m    SecMom.iloc[:]=\u001b[0m\n\u001b[0m                   ^\u001b[0m\n\u001b[0;31mSyntaxError\u001b[0m\u001b[0;31m:\u001b[0m invalid syntax\n"
     ]
    }
   ],
   "source": [
    "f=pd.Series(index=F.index)\n",
    "SecMom=pd.DataFrame(index=F.index[1:])\n",
    "SecMom.iloc[:]=\n"
   ]
  },
  {
   "cell_type": "code",
   "execution_count": null,
   "metadata": {},
   "outputs": [
    {
     "ename": "ValueError",
     "evalue": "matrices are not aligned",
     "output_type": "error",
     "traceback": [
      "\u001b[0;31m---------------------------------------------------------------------------\u001b[0m",
      "\u001b[0;31mValueError\u001b[0m                                Traceback (most recent call last)",
      "\u001b[1;32m/Users/lucadaquanno/Desktop/Documents/CIOS.Analyse/Return_forecasting/tests/Conditional_bootstrapping/Test_2/test_meucci.ipynb Cell 14\u001b[0m in \u001b[0;36m<cell line: 1>\u001b[0;34m()\u001b[0m\n\u001b[0;32m----> <a href='vscode-notebook-cell:/Users/lucadaquanno/Desktop/Documents/CIOS.Analyse/Return_forecasting/tests/Conditional_bootstrapping/Test_2/test_meucci.ipynb#X26sZmlsZQ%3D%3D?line=0'>1</a>\u001b[0m G\u001b[39m.\u001b[39;49mdot(Mu_Q)\n",
      "File \u001b[0;32m~/opt/anaconda3/lib/python3.9/site-packages/pandas/core/frame.py:1507\u001b[0m, in \u001b[0;36mDataFrame.dot\u001b[0;34m(self, other)\u001b[0m\n\u001b[1;32m   1505\u001b[0m common \u001b[39m=\u001b[39m \u001b[39mself\u001b[39m\u001b[39m.\u001b[39mcolumns\u001b[39m.\u001b[39munion(other\u001b[39m.\u001b[39mindex)\n\u001b[1;32m   1506\u001b[0m \u001b[39mif\u001b[39;00m \u001b[39mlen\u001b[39m(common) \u001b[39m>\u001b[39m \u001b[39mlen\u001b[39m(\u001b[39mself\u001b[39m\u001b[39m.\u001b[39mcolumns) \u001b[39mor\u001b[39;00m \u001b[39mlen\u001b[39m(common) \u001b[39m>\u001b[39m \u001b[39mlen\u001b[39m(other\u001b[39m.\u001b[39mindex):\n\u001b[0;32m-> 1507\u001b[0m     \u001b[39mraise\u001b[39;00m \u001b[39mValueError\u001b[39;00m(\u001b[39m\"\u001b[39m\u001b[39mmatrices are not aligned\u001b[39m\u001b[39m\"\u001b[39m)\n\u001b[1;32m   1509\u001b[0m left \u001b[39m=\u001b[39m \u001b[39mself\u001b[39m\u001b[39m.\u001b[39mreindex(columns\u001b[39m=\u001b[39mcommon, copy\u001b[39m=\u001b[39m\u001b[39mFalse\u001b[39;00m)\n\u001b[1;32m   1510\u001b[0m right \u001b[39m=\u001b[39m other\u001b[39m.\u001b[39mreindex(index\u001b[39m=\u001b[39mcommon, copy\u001b[39m=\u001b[39m\u001b[39mFalse\u001b[39;00m)\n",
      "\u001b[0;31mValueError\u001b[0m: matrices are not aligned"
     ]
    }
   ],
   "source": [
    "G.dot(Mu_Q)"
   ]
  },
  {
   "cell_type": "code",
   "execution_count": null,
   "metadata": {},
   "outputs": [
    {
     "name": "stdout",
     "output_type": "stream",
     "text": [
      "Empty DataFrame\n",
      "Columns: []\n",
      "Index: [second_constraint]\n"
     ]
    }
   ],
   "source": [
    "print(SecMom)"
   ]
  },
  {
   "cell_type": "code",
   "execution_count": null,
   "metadata": {},
   "outputs": [
    {
     "data": {
      "text/plain": [
       "[[1.26122,\n",
       "  1.08044,\n",
       "  -1.1776,\n",
       "  -2.51783,\n",
       "  -2.08803,\n",
       "  -1.26122,\n",
       "  -1.08044,\n",
       "  1.1776,\n",
       "  2.51783,\n",
       "  2.08803]]"
      ]
     },
     "execution_count": 53,
     "metadata": {},
     "output_type": "execute_result"
    }
   ],
   "source": [
    "F"
   ]
  },
  {
   "cell_type": "code",
   "execution_count": null,
   "metadata": {},
   "outputs": [],
   "source": [
    "for k in np.arange(GX.shape[1]):\n",
    "    for l in np.arange(k, GX.shape[1]):\n",
    "        F.append(GX.iloc[:,k] * GX.iloc[:,l])\n",
    "        f.append(SecMom.iloc[k, l])\n"
   ]
  },
  {
   "cell_type": "code",
   "execution_count": null,
   "metadata": {},
   "outputs": [
    {
     "data": {
      "text/plain": [
       "[[1.26122],\n",
       " [1.08044],\n",
       " [-1.1776],\n",
       " [-2.51783],\n",
       " [-2.08803],\n",
       " [-1.26122],\n",
       " [-1.08044],\n",
       " [1.1776],\n",
       " [2.51783],\n",
       " [2.08803],\n",
       " 2008-01-31    1.590676\n",
       " 2008-02-01    1.167351\n",
       " 2008-02-04    1.386742\n",
       " 2008-02-05    6.339468\n",
       " 2008-02-06    4.359869\n",
       " 2008-02-07    1.590676\n",
       " 2008-02-08    1.167351\n",
       " 2008-02-11    1.386742\n",
       " 2008-02-12    6.339468\n",
       " 2008-02-13    4.359869\n",
       " Freq: B, Name: 0, dtype: float64]"
      ]
     },
     "execution_count": 51,
     "metadata": {},
     "output_type": "execute_result"
    }
   ],
   "source": [
    "F"
   ]
  },
  {
   "cell_type": "code",
   "execution_count": null,
   "metadata": {},
   "outputs": [],
   "source": []
  }
 ],
 "metadata": {
  "kernelspec": {
   "display_name": "Python 3.9.12 ('base')",
   "language": "python",
   "name": "python3"
  },
  "language_info": {
   "codemirror_mode": {
    "name": "ipython",
    "version": 3
   },
   "file_extension": ".py",
   "mimetype": "text/x-python",
   "name": "python",
   "nbconvert_exporter": "python",
   "pygments_lexer": "ipython3",
   "version": "3.9.12"
  },
  "orig_nbformat": 4,
  "vscode": {
   "interpreter": {
    "hash": "0318f38efd34f66a233dc4c6df2ab6f566e47d01e77740aef179e188cc41a779"
   }
  }
 },
 "nbformat": 4,
 "nbformat_minor": 2
}

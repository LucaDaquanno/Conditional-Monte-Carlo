{
 "cells": [
  {
   "cell_type": "markdown",
   "metadata": {},
   "source": [
    "## Testing Autor results"
   ]
  },
  {
   "cell_type": "markdown",
   "metadata": {},
   "source": [
    "First I am going to use his same process to get data"
   ]
  },
  {
   "cell_type": "code",
   "execution_count": 233,
   "metadata": {},
   "outputs": [],
   "source": [
    "import pandas as pd\n",
    "import numpy as np\n",
    "import matplotlib.pyplot as plt\n",
    "import random\n",
    "import math\n",
    "import statistics\n",
    "import datetime\n",
    "import scipy.optimize as spopt\n",
    "import datetime\n",
    "import warnings\n"
   ]
  },
  {
   "cell_type": "code",
   "execution_count": 234,
   "metadata": {},
   "outputs": [],
   "source": [
    "user=1\n",
    "if user ==1:\n",
    "    path = \"/Users/lucadaquanno/Desktop/Documents/CIOS.Analyse/Return_forecasting/tests/Conditional_bootstrapping/Test_2/\""
   ]
  },
  {
   "cell_type": "markdown",
   "metadata": {},
   "source": [
    "## Input generation"
   ]
  },
  {
   "cell_type": "code",
   "execution_count": 235,
   "metadata": {},
   "outputs": [],
   "source": [
    "X=pd.read_excel(path+\"test_Entropy_min_prob2.xlsx\",header=None)\n",
    "J=X.shape[0]"
   ]
  },
  {
   "cell_type": "code",
   "execution_count": 236,
   "metadata": {},
   "outputs": [
    {
     "data": {
      "text/plain": [
       "2008-01-31    0.1\n",
       "2008-02-01    0.1\n",
       "2008-02-04    0.1\n",
       "2008-02-05    0.1\n",
       "2008-02-06    0.1\n",
       "2008-02-07    0.1\n",
       "2008-02-08    0.1\n",
       "2008-02-11    0.1\n",
       "2008-02-12    0.1\n",
       "2008-02-13    0.1\n",
       "Freq: B, dtype: float64"
      ]
     },
     "execution_count": 236,
     "metadata": {},
     "output_type": "execute_result"
    }
   ],
   "source": [
    "X.columns=['Stock1','Stock2']\n",
    "start=datetime.datetime(2008,1,31)\n",
    "end=datetime.datetime(2023,2,28)\n",
    "t_index=pd.bdate_range(start,end)[:J]\n",
    "X.index=t_index\n",
    "X\n",
    "p_0 = pd.Series(np.ones(J)/J,index=X.index) #equally weighted prior\n",
    "p_0\n"
   ]
  },
  {
   "cell_type": "code",
   "execution_count": 237,
   "metadata": {},
   "outputs": [],
   "source": [
    "\n",
    "\n",
    "# set views and expectations\n",
    "Q = np.array([1, -1])  # positive view on the first asset class, negative view on the second\n",
    "Mu_Q = np.array([0.5])  # expectation on market returns\n",
    "QX = np.array(np.dot(X, Q),ndmin=2)\n",
    "# fix Mu_Q according to state-conditioning probabilities\n",
    "# and then constrain Q*X to be equal to Mu_Q\n",
    "\n",
    "# scatter\n",
    "G = np.array([1, -1])  # views on the covariances\n",
    "Sigma_G = 0.5 ** 2\n",
    "\n",
    "# set constraints\n",
    "Aeq = np.ones((1, J))  # constrain probabilities to sum to one...\n",
    "beq = np.array([1])\n",
    "\n",
    "# ...constrain the first moments...  \n",
    "A = QX\n",
    "b = Mu_Q\n",
    "\n",
    "# ...constrain the second moments...\n",
    "SecMom = np.array(np.dot(G, np.dot(Mu_Q, Mu_Q.T)).dot(G.T) + Sigma_G,ndmin=2)\n",
    "GX = np.array(np.dot(X, G),ndmin=2)\n",
    "\n",
    "for k in np.arange(G.shape[0]-1):\n",
    "    for l in np.arange(k, G.shape[0]-1):\n",
    "        A= np.vstack((A, (GX[k,:] * GX[l,:])))\n",
    "        b = np.hstack((b, SecMom[k, l]))\n",
    "\n"
   ]
  },
  {
   "cell_type": "code",
   "execution_count": 238,
   "metadata": {},
   "outputs": [],
   "source": [
    "p_0=pd.Series(p_0,index=X.index)\n",
    "F=pd.DataFrame(A,columns=X.index,index=['Exp_value_const','Volatility_const'])\n",
    "f=pd.Series(b,index=F.index)\n",
    "H=pd.DataFrame(Aeq,columns=X.index,index=['ones'])\n",
    "h=pd.Series(h,index=H.index)"
   ]
  },
  {
   "cell_type": "code",
   "execution_count": 239,
   "metadata": {},
   "outputs": [],
   "source": [
    "K_eq=len(h)\n",
    "K_ineq=len(f)\n",
    "# initial guess\n",
    "lmbda_vector_0=np.ones(K_eq+K_ineq)\n",
    "lmbda_vector_0[K_eq:K_ineq+1]=-1 \n",
    "lmbda_2=lmbda_vector_0[0:K_eq]       # Lagrange multipliers for equality constraints\n",
    "lmbda_1=lmbda_vector_0[K_eq:K_ineq+1]# Lagrange multipliers for inequality constraints"
   ]
  },
  {
   "cell_type": "code",
   "execution_count": 240,
   "metadata": {},
   "outputs": [],
   "source": [
    "def neg_Dual_func_eq_constr(Lmbda_vector,P_0,H_matrix,h):\n",
    "   '''Lmbda_vector is a ndarray with (k_ineq + k_eq) number of elements\n",
    "   P_0 is a series of prior probabilities with T number of elements\n",
    "   H matrix must be a dataframe K_eq(number of equality constraints) rows and T columns (T number of scenarios)\n",
    "   h is a series with equality constraints values\n",
    "   lmbda vector is an array with initial values for Lagrange multipliers\n",
    "   The function returns the objective function value to optimize '''\n",
    "   K_eq=len(h)\n",
    "   lmbda_2=Lmbda_vector[0:K_eq]\n",
    "   Lmbda_vector[K_eq:]=0\n",
    "   q=np.exp(np.log(P_0) - 1 - H_matrix.T.dot(lmbda_2))\n",
    "   Dual_func= q.T.dot(np.log(q) - np.log(P_0)) + lmbda_2.T.dot(H_matrix.dot(q)-h)\n",
    "   return - Dual_func\n"
   ]
  },
  {
   "cell_type": "code",
   "execution_count": 241,
   "metadata": {},
   "outputs": [],
   "source": [
    "def neg_Dual_func_constr(Lmbda_vector,P_0,F_matrix,H_matrix,f,h):\n",
    "   '''Lmbda_vector is a ndarray with (k_ineq + k_eq) number of elements\n",
    "   P_0 is a series of prior probabilities with T number of elements\n",
    "   F matrix must be a dataframe with K_ineq(number of inequality constraints) rows and T columns (T number of scenarios)\n",
    "   H matrix must be a dataframe K_eq(number of equality constraints) rows and T columns (T number of scenarios)\n",
    "   f is a series with intensity views for inequality constraints \n",
    "   h is a sereis with intensity views for equality constraints\n",
    "   lmbda vector is an array with initial values for Lagrange multipliers\n",
    "   The function returns the objective function value to optimize'''\n",
    "\n",
    "   K_eq=len(h)\n",
    "   K_ineq=len(f)\n",
    "   lmbda_1=Lmbda_vector[K_eq:K_ineq+1]\n",
    "   lmbda_2=Lmbda_vector[0:K_eq]\n",
    "   q=np.exp(np.log(P_0) - 1 - F_matrix.T.dot(lmbda_1) - H_matrix.T.dot(lmbda_2))\n",
    "   Dual_func=  q.T.dot(np.log(q) - np.log(P_0)) + lmbda_1.T.dot(F_matrix.dot(q)-f) + lmbda_2.T.dot(H_matrix.dot(q)-h)\n",
    "   return - Dual_func"
   ]
  },
  {
   "cell_type": "code",
   "execution_count": 242,
   "metadata": {},
   "outputs": [],
   "source": [
    "if (K_eq!=0) & (K_ineq!=0):\n",
    "    obj_fun= neg_Dual_func_constr\n",
    "else:\n",
    "    obj_fun= neg_Dual_func_eq_constr"
   ]
  },
  {
   "cell_type": "markdown",
   "metadata": {},
   "source": [
    "$\\lambda_1(Fq - f)=0$"
   ]
  },
  {
   "cell_type": "code",
   "execution_count": 243,
   "metadata": {},
   "outputs": [],
   "source": [
    "def lambda1_fun_eq(x,F_matrix,H_matrix,f,h):\n",
    "     K_ineq=len(f)\n",
    "     K_eq=len(h)\n",
    "     lmbda_1=x[K_eq:K_ineq+1] # Lagrange multipliers for inequality constraints\n",
    "     lmbda_2=x[0:K_eq]        # Lagrange multipliers for equality constraints\n",
    "     q=np.exp(np.log(p_0) - 1 - F_matrix.T.dot(lmbda_1) - H_matrix.T.dot(lmbda_2))\n",
    "     return lmbda_1*(F.dot(q)-f)\n",
    "\n"
   ]
  },
  {
   "cell_type": "markdown",
   "metadata": {},
   "source": [
    "$Hq=h$"
   ]
  },
  {
   "cell_type": "code",
   "execution_count": 244,
   "metadata": {},
   "outputs": [],
   "source": [
    "def lambda2_fun_eq(x,F_matrix,H_matrix,f,h,function=neg_Dual_func_constr):\n",
    "    if function == neg_Dual_func_constr:\n",
    "        K_ineq=len(f)\n",
    "        K_eq=len(h)\n",
    "        lmbda_1=x[K_eq:K_ineq+1] # Lagrange multipliers for inequality constraints\n",
    "        lmbda_2=x[0:K_eq]        # Lagrange multipliers for equality constraints \n",
    "        q=np.exp(np.log(p_0) - 1 - F_matrix.T.dot(lmbda_1) - H_matrix.T.dot(lmbda_2))\n",
    "    else:\n",
    "         K_eq=len(h)\n",
    "         lmbda_2=x[0:K_eq]\n",
    "         q=np.exp(np.log(p_0) - 1 - H_matrix.T.dot(lmbda_2))\n",
    "    return H.dot(q)- h"
   ]
  },
  {
   "cell_type": "markdown",
   "metadata": {},
   "source": [
    "$ Fq - f \\geq 0$"
   ]
  },
  {
   "cell_type": "code",
   "execution_count": 245,
   "metadata": {},
   "outputs": [],
   "source": [
    "def ineq_cons(x,F_matrix,H_matrix,f,h):\n",
    "    K_ineq=len(f)\n",
    "    K_eq=len(h)\n",
    "    lmbda_1=x[K_eq:K_ineq+1] # Lagrange multipliers for inequality constraints\n",
    "    lmbda_2=x[0:K_eq]        # Lagrange multipliers for equality constraints \n",
    "    q=np.exp(np.log(p_0) - 1 - F_matrix.T.dot(lmbda_1) - H_matrix.T.dot(lmbda_2))\n",
    "    return F.dot(q)-f"
   ]
  },
  {
   "cell_type": "code",
   "execution_count": 246,
   "metadata": {},
   "outputs": [],
   "source": [
    "def lambda2_fun_eq(x,F_matrix,H_matrix,f,h,function=neg_Dual_func_constr):\n",
    "    if function == neg_Dual_func_constr:\n",
    "        K_ineq=len(f)\n",
    "        K_eq=len(h)\n",
    "        lmbda_1=x[K_eq:K_ineq+1] # Lagrange multipliers for inequality constraints\n",
    "        lmbda_2=x[0:K_eq]        # Lagrange multipliers for equality constraints \n",
    "        q=np.exp(np.log(p_0) - 1 - F_matrix.T.dot(lmbda_1) - H_matrix.T.dot(lmbda_2))\n",
    "    else:\n",
    "         K_eq=len(h)\n",
    "         lmbda_2=x[0:K_eq]\n",
    "         q=np.exp(np.log(p_0) - 1 - H_matrix.T.dot(lmbda_2))\n",
    "    return H.dot(q)- h"
   ]
  },
  {
   "cell_type": "code",
   "execution_count": 247,
   "metadata": {},
   "outputs": [],
   "source": [
    "if (K_ineq!=0):\n",
    "    cons =    ({'type': 'eq', 'fun': lambda1_fun_eq, 'args': (F,H,f,h)},\n",
    "           {'type': 'eq', 'fun': lambda2_fun_eq, 'args': (F,H,f,h)},\n",
    "           {'type': 'ineq', 'fun': ineq_cons,    'args': (F,H,f,h)})\n",
    "    arguments=(p_0,F,H,f,h)\n",
    "else: \n",
    "    cons = ({'type': 'eq', 'fun': lambda2_fun_eq, 'args': (F,H,f,h)})\n",
    "    arguments=(p_0,H,h)"
   ]
  },
  {
   "cell_type": "code",
   "execution_count": 248,
   "metadata": {},
   "outputs": [],
   "source": [
    "bnds= [(None,None),(None,0),(None,0)]"
   ]
  },
  {
   "cell_type": "code",
   "execution_count": 249,
   "metadata": {},
   "outputs": [
    {
     "name": "stdout",
     "output_type": "stream",
     "text": [
      "Optimization terminated successfully    (Exit mode 0)\n",
      "            Current function value: -0.04256564396053353\n",
      "            Iterations: 12\n",
      "            Function evaluations: 49\n",
      "            Gradient evaluations: 12\n"
     ]
    }
   ],
   "source": [
    "res=spopt.minimize(obj_fun,lmbda_vector_0,method='SLSQP',args=arguments,bounds=bnds,constraints=cons,options={'maxiter':100,'disp': True})\n",
    "Lagrangian_mltps=res.x\n",
    "lmbda_2=Lagrangian_mltps[0:K_eq]\n",
    "lmbda_1=Lagrangian_mltps[K_eq:K_ineq+1]"
   ]
  },
  {
   "cell_type": "code",
   "execution_count": 250,
   "metadata": {},
   "outputs": [
    {
     "name": "stdout",
     "output_type": "stream",
     "text": [
      "[-9.56489145e-01 -1.72152998e-01 -4.12769775e-13]\n",
      "-0.04256564396053353\n",
      "     fun: -0.04256564396053353\n",
      "     jac: array([-2.05449760e-06, -2.47796997e-05, -2.27933938e+00])\n",
      " message: 'Optimization terminated successfully'\n",
      "    nfev: 49\n",
      "     nit: 12\n",
      "    njev: 12\n",
      "  status: 0\n",
      " success: True\n",
      "       x: array([-9.56489145e-01, -1.72152998e-01, -4.12769775e-13])\n"
     ]
    }
   ],
   "source": [
    "Lagrangian_mltps=res.x\n",
    "lmbda_2=Lagrangian_mltps[0:K_eq]\n",
    "lmbda_1=Lagrangian_mltps[K_eq:K_ineq+1]\n",
    "opt_lagran=res.x\n",
    "post_prob=np.exp(np.log(p_0) - 1 - F.T.dot(lmbda_1) - H.T.dot(lmbda_2))\n",
    "print(opt_lagran)\n",
    "print(res.fun)\n",
    "print(res)"
   ]
  },
  {
   "cell_type": "code",
   "execution_count": 251,
   "metadata": {},
   "outputs": [
    {
     "data": {
      "text/plain": [
       "2008-01-31    0.118959\n",
       "2008-02-01    0.115314\n",
       "2008-02-04    0.078174\n",
       "2008-02-05    0.062067\n",
       "2008-02-06    0.066833\n",
       "2008-02-07    0.077056\n",
       "2008-02-08    0.079492\n",
       "2008-02-11    0.117259\n",
       "2008-02-12    0.147689\n",
       "2008-02-13    0.137156\n",
       "Freq: B, dtype: float64"
      ]
     },
     "execution_count": 251,
     "metadata": {},
     "output_type": "execute_result"
    }
   ],
   "source": [
    "post_prob"
   ]
  },
  {
   "cell_type": "code",
   "execution_count": null,
   "metadata": {},
   "outputs": [],
   "source": []
  }
 ],
 "metadata": {
  "kernelspec": {
   "display_name": "Python 3.9.12 ('base')",
   "language": "python",
   "name": "python3"
  },
  "language_info": {
   "codemirror_mode": {
    "name": "ipython",
    "version": 3
   },
   "file_extension": ".py",
   "mimetype": "text/x-python",
   "name": "python",
   "nbconvert_exporter": "python",
   "pygments_lexer": "ipython3",
   "version": "3.9.12"
  },
  "orig_nbformat": 4,
  "vscode": {
   "interpreter": {
    "hash": "0318f38efd34f66a233dc4c6df2ab6f566e47d01e77740aef179e188cc41a779"
   }
  }
 },
 "nbformat": 4,
 "nbformat_minor": 2
}

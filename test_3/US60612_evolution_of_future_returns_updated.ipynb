{
 "cells": [
  {
   "cell_type": "code",
   "execution_count": 1,
   "metadata": {},
   "outputs": [],
   "source": [
    "import pandas as pd\n",
    "import numpy as np\n",
    "import scipy.stats as sts\n",
    "import matplotlib.pyplot as plt\n",
    "import random \n",
    "import math\n",
    "import statistics\n",
    "import numpy_financial as npf"
   ]
  },
  {
   "cell_type": "code",
   "execution_count": 2,
   "metadata": {},
   "outputs": [],
   "source": [
    "user = 2\n",
    "if user == 1:\n",
    "    path = \"/Users/luongthilua/Documents/Financial planning/\"\n",
    "if user ==2:\n",
    "    path = \"/Users/lucadaquanno/Desktop/Documents/CIOS.Analyse/Return_forecasting/\""
   ]
  },
  {
   "cell_type": "code",
   "execution_count": 3,
   "metadata": {},
   "outputs": [],
   "source": [
    "exclude_outlier = False # flag to indicate whether to restandardlized value should be used"
   ]
  },
  {
   "cell_type": "code",
   "execution_count": 4,
   "metadata": {},
   "outputs": [],
   "source": [
    "df = pd.read_excel(path+\"dsws_timeseries.xlsx\", parse_dates = [\"date\"], index_col=(\"date\"))"
   ]
  },
  {
   "cell_type": "code",
   "execution_count": 5,
   "metadata": {},
   "outputs": [],
   "source": [
    "start_date = \"2000-01-01\""
   ]
  },
  {
   "cell_type": "code",
   "execution_count": 6,
   "metadata": {},
   "outputs": [],
   "source": [
    "end_date  = df.index.max() # end_date as given from user. for this test case its the last available date"
   ]
  },
  {
   "cell_type": "code",
   "execution_count": 7,
   "metadata": {},
   "outputs": [],
   "source": [
    "df = df[start_date : end_date]"
   ]
  },
  {
   "cell_type": "code",
   "execution_count": 8,
   "metadata": {},
   "outputs": [],
   "source": [
    "bdate = pd.bdate_range(start_date, end_date) # get only business day"
   ]
  },
  {
   "cell_type": "code",
   "execution_count": 9,
   "metadata": {},
   "outputs": [],
   "source": [
    "df = df.copy()\n",
    "for i in bdate:\n",
    "    if (i in df.index) == False:\n",
    "        df.loc[i,:] = np.nan"
   ]
  },
  {
   "cell_type": "code",
   "execution_count": 10,
   "metadata": {},
   "outputs": [],
   "source": [
    "df = df.sort_index(ascending=True)"
   ]
  },
  {
   "cell_type": "code",
   "execution_count": 11,
   "metadata": {},
   "outputs": [],
   "source": [
    "spline = False\n",
    "if spline:\n",
    "    df = df.interpolate(method = \"cubic\")\n",
    "else:\n",
    "    df = df.fillna(method = \"ffill\")"
   ]
  },
  {
   "cell_type": "code",
   "execution_count": 12,
   "metadata": {},
   "outputs": [],
   "source": [
    "name = [\"S&P500\", \"MSCI Europe\",\"USD overall\",\"EUR overall\",\"Cash\"]"
   ]
  },
  {
   "cell_type": "code",
   "execution_count": 13,
   "metadata": {},
   "outputs": [],
   "source": [
    "df.columns = name"
   ]
  },
  {
   "cell_type": "code",
   "execution_count": 14,
   "metadata": {},
   "outputs": [
    {
     "data": {
      "text/html": [
       "<div>\n",
       "<style scoped>\n",
       "    .dataframe tbody tr th:only-of-type {\n",
       "        vertical-align: middle;\n",
       "    }\n",
       "\n",
       "    .dataframe tbody tr th {\n",
       "        vertical-align: top;\n",
       "    }\n",
       "\n",
       "    .dataframe thead th {\n",
       "        text-align: right;\n",
       "    }\n",
       "</style>\n",
       "<table border=\"1\" class=\"dataframe\">\n",
       "  <thead>\n",
       "    <tr style=\"text-align: right;\">\n",
       "      <th></th>\n",
       "      <th>S&amp;P500</th>\n",
       "      <th>MSCI Europe</th>\n",
       "      <th>USD overall</th>\n",
       "      <th>EUR overall</th>\n",
       "      <th>Cash</th>\n",
       "    </tr>\n",
       "    <tr>\n",
       "      <th>date</th>\n",
       "      <th></th>\n",
       "      <th></th>\n",
       "      <th></th>\n",
       "      <th></th>\n",
       "      <th></th>\n",
       "    </tr>\n",
       "  </thead>\n",
       "  <tbody>\n",
       "    <tr>\n",
       "      <th>2000-01-03</th>\n",
       "      <td>2002.11</td>\n",
       "      <td>136.163</td>\n",
       "      <td>97.347</td>\n",
       "      <td>97.097</td>\n",
       "      <td>103.087</td>\n",
       "    </tr>\n",
       "    <tr>\n",
       "      <th>2000-01-04</th>\n",
       "      <td>1925.41</td>\n",
       "      <td>136.163</td>\n",
       "      <td>97.680</td>\n",
       "      <td>97.078</td>\n",
       "      <td>103.096</td>\n",
       "    </tr>\n",
       "    <tr>\n",
       "      <th>2000-01-05</th>\n",
       "      <td>1929.28</td>\n",
       "      <td>136.163</td>\n",
       "      <td>97.289</td>\n",
       "      <td>97.040</td>\n",
       "      <td>103.106</td>\n",
       "    </tr>\n",
       "    <tr>\n",
       "      <th>2000-01-06</th>\n",
       "      <td>1931.51</td>\n",
       "      <td>136.163</td>\n",
       "      <td>97.542</td>\n",
       "      <td>96.880</td>\n",
       "      <td>103.115</td>\n",
       "    </tr>\n",
       "    <tr>\n",
       "      <th>2000-01-07</th>\n",
       "      <td>1983.83</td>\n",
       "      <td>136.163</td>\n",
       "      <td>97.562</td>\n",
       "      <td>97.366</td>\n",
       "      <td>103.125</td>\n",
       "    </tr>\n",
       "    <tr>\n",
       "      <th>...</th>\n",
       "      <td>...</td>\n",
       "      <td>...</td>\n",
       "      <td>...</td>\n",
       "      <td>...</td>\n",
       "      <td>...</td>\n",
       "    </tr>\n",
       "    <tr>\n",
       "      <th>2020-04-03</th>\n",
       "      <td>5075.16</td>\n",
       "      <td>203.895</td>\n",
       "      <td>272.547</td>\n",
       "      <td>240.943</td>\n",
       "      <td>145.005</td>\n",
       "    </tr>\n",
       "    <tr>\n",
       "      <th>2020-04-06</th>\n",
       "      <td>5432.17</td>\n",
       "      <td>211.358</td>\n",
       "      <td>271.677</td>\n",
       "      <td>240.874</td>\n",
       "      <td>145.001</td>\n",
       "    </tr>\n",
       "    <tr>\n",
       "      <th>2020-04-07</th>\n",
       "      <td>5423.52</td>\n",
       "      <td>215.095</td>\n",
       "      <td>271.745</td>\n",
       "      <td>239.814</td>\n",
       "      <td>145.000</td>\n",
       "    </tr>\n",
       "    <tr>\n",
       "      <th>2020-04-08</th>\n",
       "      <td>5609.55</td>\n",
       "      <td>215.016</td>\n",
       "      <td>271.872</td>\n",
       "      <td>239.710</td>\n",
       "      <td>144.999</td>\n",
       "    </tr>\n",
       "    <tr>\n",
       "      <th>2020-04-09</th>\n",
       "      <td>5691.54</td>\n",
       "      <td>218.218</td>\n",
       "      <td>274.441</td>\n",
       "      <td>240.774</td>\n",
       "      <td>144.998</td>\n",
       "    </tr>\n",
       "  </tbody>\n",
       "</table>\n",
       "<p>5289 rows × 5 columns</p>\n",
       "</div>"
      ],
      "text/plain": [
       "             S&P500  MSCI Europe  USD overall  EUR overall     Cash\n",
       "date                                                               \n",
       "2000-01-03  2002.11      136.163       97.347       97.097  103.087\n",
       "2000-01-04  1925.41      136.163       97.680       97.078  103.096\n",
       "2000-01-05  1929.28      136.163       97.289       97.040  103.106\n",
       "2000-01-06  1931.51      136.163       97.542       96.880  103.115\n",
       "2000-01-07  1983.83      136.163       97.562       97.366  103.125\n",
       "...             ...          ...          ...          ...      ...\n",
       "2020-04-03  5075.16      203.895      272.547      240.943  145.005\n",
       "2020-04-06  5432.17      211.358      271.677      240.874  145.001\n",
       "2020-04-07  5423.52      215.095      271.745      239.814  145.000\n",
       "2020-04-08  5609.55      215.016      271.872      239.710  144.999\n",
       "2020-04-09  5691.54      218.218      274.441      240.774  144.998\n",
       "\n",
       "[5289 rows x 5 columns]"
      ]
     },
     "execution_count": 14,
     "metadata": {},
     "output_type": "execute_result"
    }
   ],
   "source": [
    "df"
   ]
  },
  {
   "cell_type": "code",
   "execution_count": 15,
   "metadata": {},
   "outputs": [],
   "source": [
    "weight = [0.2,0.2,0.2,0.2,0.2]"
   ]
  },
  {
   "cell_type": "code",
   "execution_count": 16,
   "metadata": {},
   "outputs": [],
   "source": [
    "holding_period = 200"
   ]
  },
  {
   "cell_type": "code",
   "execution_count": 17,
   "metadata": {},
   "outputs": [],
   "source": [
    "n_mc = 100"
   ]
  },
  {
   "cell_type": "code",
   "execution_count": 18,
   "metadata": {},
   "outputs": [],
   "source": [
    "freq = \"D\""
   ]
  },
  {
   "cell_type": "code",
   "execution_count": 19,
   "metadata": {},
   "outputs": [],
   "source": [
    "upscale_values = dict(\n",
    "    D=1,\n",
    "    W=4.83,\n",
    "    M=21,\n",
    "    Q=63,\n",
    "    A=252\n",
    ")"
   ]
  },
  {
   "cell_type": "code",
   "execution_count": 20,
   "metadata": {},
   "outputs": [],
   "source": [
    "def get_upscale(value):\n",
    "    \"\"\"\n",
    "   get scaling from daily to predefined frequency. same approach as in performance indicators\n",
    "    \"\"\"\n",
    "    if type(value) == str:\n",
    "        return float(upscale_values.get(value, 1))\n",
    "    else:\n",
    "        return value"
   ]
  },
  {
   "cell_type": "markdown",
   "metadata": {},
   "source": [
    "#### convert daily returns to defined frequency returns"
   ]
  },
  {
   "cell_type": "code",
   "execution_count": 21,
   "metadata": {},
   "outputs": [],
   "source": [
    "df_freq= df.resample(freq).last() #resample daily price to defined frequency"
   ]
  },
  {
   "cell_type": "code",
   "execution_count": 22,
   "metadata": {},
   "outputs": [
    {
     "data": {
      "text/html": [
       "<div>\n",
       "<style scoped>\n",
       "    .dataframe tbody tr th:only-of-type {\n",
       "        vertical-align: middle;\n",
       "    }\n",
       "\n",
       "    .dataframe tbody tr th {\n",
       "        vertical-align: top;\n",
       "    }\n",
       "\n",
       "    .dataframe thead th {\n",
       "        text-align: right;\n",
       "    }\n",
       "</style>\n",
       "<table border=\"1\" class=\"dataframe\">\n",
       "  <thead>\n",
       "    <tr style=\"text-align: right;\">\n",
       "      <th></th>\n",
       "      <th>S&amp;P500</th>\n",
       "      <th>MSCI Europe</th>\n",
       "      <th>USD overall</th>\n",
       "      <th>EUR overall</th>\n",
       "      <th>Cash</th>\n",
       "    </tr>\n",
       "    <tr>\n",
       "      <th>date</th>\n",
       "      <th></th>\n",
       "      <th></th>\n",
       "      <th></th>\n",
       "      <th></th>\n",
       "      <th></th>\n",
       "    </tr>\n",
       "  </thead>\n",
       "  <tbody>\n",
       "    <tr>\n",
       "      <th>2000-01-03</th>\n",
       "      <td>2002.11</td>\n",
       "      <td>136.163</td>\n",
       "      <td>97.347</td>\n",
       "      <td>97.097</td>\n",
       "      <td>103.087</td>\n",
       "    </tr>\n",
       "    <tr>\n",
       "      <th>2000-01-04</th>\n",
       "      <td>1925.41</td>\n",
       "      <td>136.163</td>\n",
       "      <td>97.680</td>\n",
       "      <td>97.078</td>\n",
       "      <td>103.096</td>\n",
       "    </tr>\n",
       "    <tr>\n",
       "      <th>2000-01-05</th>\n",
       "      <td>1929.28</td>\n",
       "      <td>136.163</td>\n",
       "      <td>97.289</td>\n",
       "      <td>97.040</td>\n",
       "      <td>103.106</td>\n",
       "    </tr>\n",
       "    <tr>\n",
       "      <th>2000-01-06</th>\n",
       "      <td>1931.51</td>\n",
       "      <td>136.163</td>\n",
       "      <td>97.542</td>\n",
       "      <td>96.880</td>\n",
       "      <td>103.115</td>\n",
       "    </tr>\n",
       "    <tr>\n",
       "      <th>2000-01-07</th>\n",
       "      <td>1983.83</td>\n",
       "      <td>136.163</td>\n",
       "      <td>97.562</td>\n",
       "      <td>97.366</td>\n",
       "      <td>103.125</td>\n",
       "    </tr>\n",
       "    <tr>\n",
       "      <th>...</th>\n",
       "      <td>...</td>\n",
       "      <td>...</td>\n",
       "      <td>...</td>\n",
       "      <td>...</td>\n",
       "      <td>...</td>\n",
       "    </tr>\n",
       "    <tr>\n",
       "      <th>2020-04-03</th>\n",
       "      <td>5075.16</td>\n",
       "      <td>203.895</td>\n",
       "      <td>272.547</td>\n",
       "      <td>240.943</td>\n",
       "      <td>145.005</td>\n",
       "    </tr>\n",
       "    <tr>\n",
       "      <th>2020-04-06</th>\n",
       "      <td>5432.17</td>\n",
       "      <td>211.358</td>\n",
       "      <td>271.677</td>\n",
       "      <td>240.874</td>\n",
       "      <td>145.001</td>\n",
       "    </tr>\n",
       "    <tr>\n",
       "      <th>2020-04-07</th>\n",
       "      <td>5423.52</td>\n",
       "      <td>215.095</td>\n",
       "      <td>271.745</td>\n",
       "      <td>239.814</td>\n",
       "      <td>145.000</td>\n",
       "    </tr>\n",
       "    <tr>\n",
       "      <th>2020-04-08</th>\n",
       "      <td>5609.55</td>\n",
       "      <td>215.016</td>\n",
       "      <td>271.872</td>\n",
       "      <td>239.710</td>\n",
       "      <td>144.999</td>\n",
       "    </tr>\n",
       "    <tr>\n",
       "      <th>2020-04-09</th>\n",
       "      <td>5691.54</td>\n",
       "      <td>218.218</td>\n",
       "      <td>274.441</td>\n",
       "      <td>240.774</td>\n",
       "      <td>144.998</td>\n",
       "    </tr>\n",
       "  </tbody>\n",
       "</table>\n",
       "<p>5289 rows × 5 columns</p>\n",
       "</div>"
      ],
      "text/plain": [
       "             S&P500  MSCI Europe  USD overall  EUR overall     Cash\n",
       "date                                                               \n",
       "2000-01-03  2002.11      136.163       97.347       97.097  103.087\n",
       "2000-01-04  1925.41      136.163       97.680       97.078  103.096\n",
       "2000-01-05  1929.28      136.163       97.289       97.040  103.106\n",
       "2000-01-06  1931.51      136.163       97.542       96.880  103.115\n",
       "2000-01-07  1983.83      136.163       97.562       97.366  103.125\n",
       "...             ...          ...          ...          ...      ...\n",
       "2020-04-03  5075.16      203.895      272.547      240.943  145.005\n",
       "2020-04-06  5432.17      211.358      271.677      240.874  145.001\n",
       "2020-04-07  5423.52      215.095      271.745      239.814  145.000\n",
       "2020-04-08  5609.55      215.016      271.872      239.710  144.999\n",
       "2020-04-09  5691.54      218.218      274.441      240.774  144.998\n",
       "\n",
       "[5289 rows x 5 columns]"
      ]
     },
     "execution_count": 22,
     "metadata": {},
     "output_type": "execute_result"
    }
   ],
   "source": [
    "df"
   ]
  },
  {
   "cell_type": "code",
   "execution_count": 23,
   "metadata": {},
   "outputs": [
    {
     "data": {
      "text/html": [
       "<div>\n",
       "<style scoped>\n",
       "    .dataframe tbody tr th:only-of-type {\n",
       "        vertical-align: middle;\n",
       "    }\n",
       "\n",
       "    .dataframe tbody tr th {\n",
       "        vertical-align: top;\n",
       "    }\n",
       "\n",
       "    .dataframe thead th {\n",
       "        text-align: right;\n",
       "    }\n",
       "</style>\n",
       "<table border=\"1\" class=\"dataframe\">\n",
       "  <thead>\n",
       "    <tr style=\"text-align: right;\">\n",
       "      <th></th>\n",
       "      <th>S&amp;P500</th>\n",
       "      <th>MSCI Europe</th>\n",
       "      <th>USD overall</th>\n",
       "      <th>EUR overall</th>\n",
       "      <th>Cash</th>\n",
       "    </tr>\n",
       "    <tr>\n",
       "      <th>date</th>\n",
       "      <th></th>\n",
       "      <th></th>\n",
       "      <th></th>\n",
       "      <th></th>\n",
       "      <th></th>\n",
       "    </tr>\n",
       "  </thead>\n",
       "  <tbody>\n",
       "    <tr>\n",
       "      <th>2000-01-03</th>\n",
       "      <td>2002.11</td>\n",
       "      <td>136.163</td>\n",
       "      <td>97.347</td>\n",
       "      <td>97.097</td>\n",
       "      <td>103.087</td>\n",
       "    </tr>\n",
       "    <tr>\n",
       "      <th>2000-01-04</th>\n",
       "      <td>1925.41</td>\n",
       "      <td>136.163</td>\n",
       "      <td>97.680</td>\n",
       "      <td>97.078</td>\n",
       "      <td>103.096</td>\n",
       "    </tr>\n",
       "    <tr>\n",
       "      <th>2000-01-05</th>\n",
       "      <td>1929.28</td>\n",
       "      <td>136.163</td>\n",
       "      <td>97.289</td>\n",
       "      <td>97.040</td>\n",
       "      <td>103.106</td>\n",
       "    </tr>\n",
       "    <tr>\n",
       "      <th>2000-01-06</th>\n",
       "      <td>1931.51</td>\n",
       "      <td>136.163</td>\n",
       "      <td>97.542</td>\n",
       "      <td>96.880</td>\n",
       "      <td>103.115</td>\n",
       "    </tr>\n",
       "    <tr>\n",
       "      <th>2000-01-07</th>\n",
       "      <td>1983.83</td>\n",
       "      <td>136.163</td>\n",
       "      <td>97.562</td>\n",
       "      <td>97.366</td>\n",
       "      <td>103.125</td>\n",
       "    </tr>\n",
       "    <tr>\n",
       "      <th>...</th>\n",
       "      <td>...</td>\n",
       "      <td>...</td>\n",
       "      <td>...</td>\n",
       "      <td>...</td>\n",
       "      <td>...</td>\n",
       "    </tr>\n",
       "    <tr>\n",
       "      <th>2020-04-05</th>\n",
       "      <td>NaN</td>\n",
       "      <td>NaN</td>\n",
       "      <td>NaN</td>\n",
       "      <td>NaN</td>\n",
       "      <td>NaN</td>\n",
       "    </tr>\n",
       "    <tr>\n",
       "      <th>2020-04-06</th>\n",
       "      <td>5432.17</td>\n",
       "      <td>211.358</td>\n",
       "      <td>271.677</td>\n",
       "      <td>240.874</td>\n",
       "      <td>145.001</td>\n",
       "    </tr>\n",
       "    <tr>\n",
       "      <th>2020-04-07</th>\n",
       "      <td>5423.52</td>\n",
       "      <td>215.095</td>\n",
       "      <td>271.745</td>\n",
       "      <td>239.814</td>\n",
       "      <td>145.000</td>\n",
       "    </tr>\n",
       "    <tr>\n",
       "      <th>2020-04-08</th>\n",
       "      <td>5609.55</td>\n",
       "      <td>215.016</td>\n",
       "      <td>271.872</td>\n",
       "      <td>239.710</td>\n",
       "      <td>144.999</td>\n",
       "    </tr>\n",
       "    <tr>\n",
       "      <th>2020-04-09</th>\n",
       "      <td>5691.54</td>\n",
       "      <td>218.218</td>\n",
       "      <td>274.441</td>\n",
       "      <td>240.774</td>\n",
       "      <td>144.998</td>\n",
       "    </tr>\n",
       "  </tbody>\n",
       "</table>\n",
       "<p>7403 rows × 5 columns</p>\n",
       "</div>"
      ],
      "text/plain": [
       "             S&P500  MSCI Europe  USD overall  EUR overall     Cash\n",
       "date                                                               \n",
       "2000-01-03  2002.11      136.163       97.347       97.097  103.087\n",
       "2000-01-04  1925.41      136.163       97.680       97.078  103.096\n",
       "2000-01-05  1929.28      136.163       97.289       97.040  103.106\n",
       "2000-01-06  1931.51      136.163       97.542       96.880  103.115\n",
       "2000-01-07  1983.83      136.163       97.562       97.366  103.125\n",
       "...             ...          ...          ...          ...      ...\n",
       "2020-04-05      NaN          NaN          NaN          NaN      NaN\n",
       "2020-04-06  5432.17      211.358      271.677      240.874  145.001\n",
       "2020-04-07  5423.52      215.095      271.745      239.814  145.000\n",
       "2020-04-08  5609.55      215.016      271.872      239.710  144.999\n",
       "2020-04-09  5691.54      218.218      274.441      240.774  144.998\n",
       "\n",
       "[7403 rows x 5 columns]"
      ]
     },
     "execution_count": 23,
     "metadata": {},
     "output_type": "execute_result"
    }
   ],
   "source": [
    "df_freq"
   ]
  },
  {
   "cell_type": "code",
   "execution_count": 24,
   "metadata": {},
   "outputs": [],
   "source": [
    "df_ret = df_freq.pct_change().dropna(how = \"any\")"
   ]
  },
  {
   "cell_type": "code",
   "execution_count": 25,
   "metadata": {},
   "outputs": [
    {
     "data": {
      "text/html": [
       "<div>\n",
       "<style scoped>\n",
       "    .dataframe tbody tr th:only-of-type {\n",
       "        vertical-align: middle;\n",
       "    }\n",
       "\n",
       "    .dataframe tbody tr th {\n",
       "        vertical-align: top;\n",
       "    }\n",
       "\n",
       "    .dataframe thead th {\n",
       "        text-align: right;\n",
       "    }\n",
       "</style>\n",
       "<table border=\"1\" class=\"dataframe\">\n",
       "  <thead>\n",
       "    <tr style=\"text-align: right;\">\n",
       "      <th></th>\n",
       "      <th>S&amp;P500</th>\n",
       "      <th>MSCI Europe</th>\n",
       "      <th>USD overall</th>\n",
       "      <th>EUR overall</th>\n",
       "      <th>Cash</th>\n",
       "    </tr>\n",
       "    <tr>\n",
       "      <th>date</th>\n",
       "      <th></th>\n",
       "      <th></th>\n",
       "      <th></th>\n",
       "      <th></th>\n",
       "      <th></th>\n",
       "    </tr>\n",
       "  </thead>\n",
       "  <tbody>\n",
       "    <tr>\n",
       "      <th>2000-01-04</th>\n",
       "      <td>-0.038310</td>\n",
       "      <td>0.000000</td>\n",
       "      <td>0.003421</td>\n",
       "      <td>-0.000196</td>\n",
       "      <td>0.000087</td>\n",
       "    </tr>\n",
       "    <tr>\n",
       "      <th>2000-01-05</th>\n",
       "      <td>0.002010</td>\n",
       "      <td>0.000000</td>\n",
       "      <td>-0.004003</td>\n",
       "      <td>-0.000391</td>\n",
       "      <td>0.000097</td>\n",
       "    </tr>\n",
       "    <tr>\n",
       "      <th>2000-01-06</th>\n",
       "      <td>0.001156</td>\n",
       "      <td>0.000000</td>\n",
       "      <td>0.002600</td>\n",
       "      <td>-0.001649</td>\n",
       "      <td>0.000087</td>\n",
       "    </tr>\n",
       "    <tr>\n",
       "      <th>2000-01-07</th>\n",
       "      <td>0.027088</td>\n",
       "      <td>0.000000</td>\n",
       "      <td>0.000205</td>\n",
       "      <td>0.005017</td>\n",
       "      <td>0.000097</td>\n",
       "    </tr>\n",
       "    <tr>\n",
       "      <th>2000-01-08</th>\n",
       "      <td>0.000000</td>\n",
       "      <td>0.000000</td>\n",
       "      <td>0.000000</td>\n",
       "      <td>0.000000</td>\n",
       "      <td>0.000000</td>\n",
       "    </tr>\n",
       "    <tr>\n",
       "      <th>...</th>\n",
       "      <td>...</td>\n",
       "      <td>...</td>\n",
       "      <td>...</td>\n",
       "      <td>...</td>\n",
       "      <td>...</td>\n",
       "    </tr>\n",
       "    <tr>\n",
       "      <th>2020-04-05</th>\n",
       "      <td>0.000000</td>\n",
       "      <td>0.000000</td>\n",
       "      <td>0.000000</td>\n",
       "      <td>0.000000</td>\n",
       "      <td>0.000000</td>\n",
       "    </tr>\n",
       "    <tr>\n",
       "      <th>2020-04-06</th>\n",
       "      <td>0.070345</td>\n",
       "      <td>0.036602</td>\n",
       "      <td>-0.003192</td>\n",
       "      <td>-0.000286</td>\n",
       "      <td>-0.000028</td>\n",
       "    </tr>\n",
       "    <tr>\n",
       "      <th>2020-04-07</th>\n",
       "      <td>-0.001592</td>\n",
       "      <td>0.017681</td>\n",
       "      <td>0.000250</td>\n",
       "      <td>-0.004401</td>\n",
       "      <td>-0.000007</td>\n",
       "    </tr>\n",
       "    <tr>\n",
       "      <th>2020-04-08</th>\n",
       "      <td>0.034301</td>\n",
       "      <td>-0.000367</td>\n",
       "      <td>0.000467</td>\n",
       "      <td>-0.000434</td>\n",
       "      <td>-0.000007</td>\n",
       "    </tr>\n",
       "    <tr>\n",
       "      <th>2020-04-09</th>\n",
       "      <td>0.014616</td>\n",
       "      <td>0.014892</td>\n",
       "      <td>0.009449</td>\n",
       "      <td>0.004439</td>\n",
       "      <td>-0.000007</td>\n",
       "    </tr>\n",
       "  </tbody>\n",
       "</table>\n",
       "<p>7402 rows × 5 columns</p>\n",
       "</div>"
      ],
      "text/plain": [
       "              S&P500  MSCI Europe  USD overall  EUR overall      Cash\n",
       "date                                                                 \n",
       "2000-01-04 -0.038310     0.000000     0.003421    -0.000196  0.000087\n",
       "2000-01-05  0.002010     0.000000    -0.004003    -0.000391  0.000097\n",
       "2000-01-06  0.001156     0.000000     0.002600    -0.001649  0.000087\n",
       "2000-01-07  0.027088     0.000000     0.000205     0.005017  0.000097\n",
       "2000-01-08  0.000000     0.000000     0.000000     0.000000  0.000000\n",
       "...              ...          ...          ...          ...       ...\n",
       "2020-04-05  0.000000     0.000000     0.000000     0.000000  0.000000\n",
       "2020-04-06  0.070345     0.036602    -0.003192    -0.000286 -0.000028\n",
       "2020-04-07 -0.001592     0.017681     0.000250    -0.004401 -0.000007\n",
       "2020-04-08  0.034301    -0.000367     0.000467    -0.000434 -0.000007\n",
       "2020-04-09  0.014616     0.014892     0.009449     0.004439 -0.000007\n",
       "\n",
       "[7402 rows x 5 columns]"
      ]
     },
     "execution_count": 25,
     "metadata": {},
     "output_type": "execute_result"
    }
   ],
   "source": [
    "df_ret"
   ]
  },
  {
   "cell_type": "code",
   "execution_count": 26,
   "metadata": {},
   "outputs": [],
   "source": [
    "# expected return \n",
    "exp_ret = np.array([0.20,0.07,0.005,0.006,0.002]) "
   ]
  },
  {
   "cell_type": "code",
   "execution_count": 27,
   "metadata": {},
   "outputs": [],
   "source": [
    "# expected vola\n",
    "exp_vol = np.array([0.15, 0.20,0.05,0.06,0.03])"
   ]
  },
  {
   "cell_type": "markdown",
   "metadata": {},
   "source": [
    "#### restandarlize return to incorporate user's view of portfolio future performance (expect return and volatility) into the sample\n",
    "Ignore if there is no info on expected return and vola"
   ]
  },
  {
   "cell_type": "code",
   "execution_count": 28,
   "metadata": {},
   "outputs": [],
   "source": [
    "df_ret = (df_ret - df_ret.mean())/df_ret.std(ddof=0)\n",
    "df_ret = df_ret*(exp_vol/np.sqrt(get_upscale(\"A\")/get_upscale(freq))) + exp_ret/(get_upscale(\"A\")/get_upscale(freq))"
   ]
  },
  {
   "cell_type": "code",
   "execution_count": 29,
   "metadata": {},
   "outputs": [],
   "source": [
    "port_ret = df_ret@weight"
   ]
  },
  {
   "cell_type": "code",
   "execution_count": 30,
   "metadata": {},
   "outputs": [
    {
     "data": {
      "text/plain": [
       "date\n",
       "2000-01-04   -0.005765\n",
       "2000-01-05   -0.000725\n",
       "2000-01-06    0.000492\n",
       "2000-01-07    0.007608\n",
       "2000-01-08   -0.000159\n",
       "                ...   \n",
       "2020-04-05   -0.000159\n",
       "2020-04-06    0.020513\n",
       "2020-04-07    0.001962\n",
       "2020-04-08    0.005896\n",
       "2020-04-09    0.011085\n",
       "Freq: D, Length: 7402, dtype: float64"
      ]
     },
     "execution_count": 30,
     "metadata": {},
     "output_type": "execute_result"
    }
   ],
   "source": [
    "port_ret"
   ]
  },
  {
   "cell_type": "markdown",
   "metadata": {},
   "source": [
    "#### Bootstrapping starts \n",
    "Future returns is unknown. One of the methods to estimate future returns is to use historical return as the best estimate. \n",
    "This user story uses bootstrapping as method to estimate future return. It is the process of randomly picking out returns from a historical timeseries return and assign it as estimated future returns"
   ]
  },
  {
   "cell_type": "code",
   "execution_count": 31,
   "metadata": {},
   "outputs": [],
   "source": [
    "# create estimated returns for monte carlo simulation, each path has timeseries return of holding_period return \n",
    "dada = np.random.choice(list(port_ret),(n_mc,holding_period)) #random.choices: sample with replacement"
   ]
  },
  {
   "cell_type": "markdown",
   "metadata": {},
   "source": [
    "#### Monte carlo simulation of return\n",
    "Each path takes one series of returns from bootstrapping, calculate cummulative returns and store data"
   ]
  },
  {
   "cell_type": "code",
   "execution_count": 32,
   "metadata": {},
   "outputs": [],
   "source": [
    "port_fv = pd.DataFrame() # to store portfolio future value\n",
    "port_fr = pd.DataFrame() # to store portfolio future return\n",
    "for i in range(n_mc):\n",
    "    if exclude_outlier:\n",
    "        #please apply exclude_outlier configuration from Analyse, function below is just an example\n",
    "        port_ret= sts.mstats.winsorize(port_ret, limits = 0.05).data \n",
    "    else:\n",
    "        pass\n",
    "    da = dada[i] # taking one return series from bootstrapped returns\n",
    "    port_fr_i = pd.DataFrame((1+da).cumprod()) # cumulative future returns\n",
    "    port_fr = pd.concat([port_fr, port_fr_i - 1], axis = 1)\n"
   ]
  },
  {
   "cell_type": "code",
   "execution_count": 33,
   "metadata": {},
   "outputs": [],
   "source": [
    "quantile = [0.01,0.5,0.99]\n",
    "final_result = pd.DataFrame()\n",
    "for i in quantile:\n",
    "    final_result.loc[:,\"{0}\".format(i)] = port_fr.quantile(i, axis = 1)"
   ]
  },
  {
   "cell_type": "code",
   "execution_count": 34,
   "metadata": {},
   "outputs": [
    {
     "data": {
      "text/plain": [
       "<AxesSubplot:>"
      ]
     },
     "execution_count": 34,
     "metadata": {},
     "output_type": "execute_result"
    },
    {
     "data": {
      "image/png": "[encoded data removed]",
      "text/plain": [
       "<Figure size 432x288 with 1 Axes>"
      ]
     },
     "metadata": {
      "needs_background": "light"
     },
     "output_type": "display_data"
    }
   ],
   "source": [
    "(1+final_result).plot()"
   ]
  },
  {
   "cell_type": "code",
   "execution_count": null,
   "metadata": {},
   "outputs": [],
   "source": []
  },
  {
   "cell_type": "code",
   "execution_count": null,
   "metadata": {},
   "outputs": [],
   "source": []
  }
 ],
 "metadata": {
  "kernelspec": {
   "display_name": "Python 3.9.12 ('base')",
   "language": "python",
   "name": "python3"
  },
  "language_info": {
   "codemirror_mode": {
    "name": "ipython",
    "version": 3
   },
   "file_extension": ".py",
   "mimetype": "text/x-python",
   "name": "python",
   "nbconvert_exporter": "python",
   "pygments_lexer": "ipython3",
   "version": "3.9.12"
  },
  "vscode": {
   "interpreter": {
    "hash": "0318f38efd34f66a233dc4c6df2ab6f566e47d01e77740aef179e188cc41a779"
   }
  }
 },
 "nbformat": 4,
 "nbformat_minor": 2
}

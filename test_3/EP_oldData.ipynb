{
 "cells": [
  {
   "cell_type": "markdown",
   "id": "c859ce61",
   "metadata": {},
   "source": [
    "# Flexible probabilities for scenario analysis"
   ]
  },
  {
   "cell_type": "markdown",
   "id": "7cd45759",
   "metadata": {},
   "source": [
    "__Importing libraries__"
   ]
  },
  {
   "cell_type": "code",
   "execution_count": 376,
   "id": "355ed263",
   "metadata": {},
   "outputs": [],
   "source": [
    "import pandas as pd\n",
    "import numpy as np\n",
    "import scipy.stats as sts\n",
    "import matplotlib.pyplot as plt\n",
    "import random\n",
    "import math\n",
    "import statistics\n",
    "import time\n",
    "import plotly as plty\n",
    "import scipy.optimize as spopt\n",
    "import datetime\n",
    "import warnings\n",
    "from operator import itemgetter\n",
    "from statsmodels.graphics.tsaplots import plot_acf, plot_pacf\n",
    "from arch import arch_model"
   ]
  },
  {
   "cell_type": "code",
   "execution_count": 377,
   "id": "e8a4fe03",
   "metadata": {},
   "outputs": [],
   "source": [
    "user=1\n",
    "if user ==1:\n",
    "    path = \"/Users/lucadaquanno/Desktop/Documents/CIOS.Analyse/Return_forecasting/tests/Conditional_bootstrapping/test_3/\""
   ]
  },
  {
   "cell_type": "markdown",
   "id": "8607b7c4",
   "metadata": {},
   "source": [
    "## Importing Data"
   ]
  },
  {
   "cell_type": "code",
   "execution_count": 378,
   "id": "cb264f62",
   "metadata": {},
   "outputs": [],
   "source": [
    "exclude_outlier = False # flag to indicate whether to restandardlized value should be used\n",
    "df = pd.read_excel(path+\"dsws_timeseries.xlsx\", parse_dates = [\"date\"], index_col=(\"date\"))\n",
    "start_date = \"2000-01-01\"\n",
    "end_date  = df.index.max() # end_date as given from user. for this test case its the last available date\n",
    "df = df[start_date : end_date]\n",
    "bdate = pd.bdate_range(start_date, end_date) # get only business day\n",
    "df = df.copy()\n",
    "for i in bdate:\n",
    "    if (i in df.index) == False:\n",
    "        df.loc[i,:] = np.nan\n",
    "df = df.sort_index(ascending=True)\n",
    "spline = False\n",
    "if spline:\n",
    "    df = df.interpolate(method = \"cubic\")\n",
    "else:\n",
    "    df = df.fillna(method = \"ffill\")\n",
    "name = [\"S&P500\", \"MSCI Europe\",\"USD overall\",\"EUR overall\",\"Cash\"]\n",
    "df.columns = name\n",
    "weight = [0.2,0.2,0.2,0.2,0.2]\n",
    "holding_period = 252\n",
    "n_mc = 1000"
   ]
  },
  {
   "cell_type": "code",
   "execution_count": 379,
   "id": "ef146554",
   "metadata": {},
   "outputs": [],
   "source": [
    "df\n",
    "df_ret = df.pct_change().dropna()\n",
    "x=df_ret.copy()"
   ]
  },
  {
   "cell_type": "markdown",
   "id": "e014d40d",
   "metadata": {},
   "source": [
    "## Data Pre-processing"
   ]
  },
  {
   "cell_type": "markdown",
   "id": "a1f2c198",
   "metadata": {},
   "source": [
    "With Re-scaled data the optimizer works better, we are going to apply a z-score normalization on our original dataset <br>\n",
    "$ \\epsilon= \\frac{x - \\bar{x}}{\\sigma(x)}$\n",
    "* $\\bar{x}$ is the returns sample mean\n",
    "* $\\sigma(x)$ is the returns standard deviation\n"
   ]
  },
  {
   "cell_type": "code",
   "execution_count": 380,
   "id": "bae3d2af",
   "metadata": {},
   "outputs": [],
   "source": [
    "data_sample_mean=x.mean()\n",
    "data_sample_volat=x.std()\n",
    "std_data=(x-data_sample_mean)/data_sample_volat\n",
    "epsilon=std_data.copy()\n"
   ]
  },
  {
   "cell_type": "markdown",
   "id": "ca61ff37",
   "metadata": {},
   "source": [
    "### Defining our prior: time-conditioned probabilities"
   ]
  },
  {
   "cell_type": "markdown",
   "id": "7240487d",
   "metadata": {},
   "source": [
    "Tipically we need to rely more on recent scenarios and possibly on additional information on the market. <br>\n",
    "This leads to alternative specifications of probabilities based on the notions of time conditioning and state conditioning respectively\n"
   ]
  },
  {
   "cell_type": "markdown",
   "id": "67e7c380",
   "metadata": {},
   "source": [
    "In the time conditioning approach the relative weight of each scenario depends on the time elapsed. <br>\n",
    "1\\. $ p_t|\\tau_{HL}$ := $pe$ $^{-\\frac{ln(2)}{\\tau_{HL}}|t - T|}$ <br>\n",
    "2\\. $p$ := 1/ $ \\sum_{t}^{} e^{-\\frac{ln(2)}{\\tau_{HL}}|t - T|}$  <br>\n",
    "\n",
    "* $\\tau_{HL}$ can be interpreted as the  time required for the probability of a scenario to decrease to half of its maximum value in $T$  <br>\n",
    "* the lower is $\\tau_{HL}$ the higher is the decay rate  "
   ]
  },
  {
   "cell_type": "code",
   "execution_count": 381,
   "id": "a751b48e",
   "metadata": {},
   "outputs": [],
   "source": [
    "def Exp_Decay_prob(X,T_date,Tau_date,data_freq=scaling_factor):\n",
    "    '''X is the timeseries of risk_drivers\n",
    "    T_date is the latest observation's date\n",
    "    Tau_date is the date for the half life parameter\n",
    "    this function return a series of time-decaying probabilities'''\n",
    "    if data_freq=='d':\n",
    "        X=X.loc[:T_date]\n",
    "        Tau_integer=X.loc[:Tau_date].shape[0] # associating an integer to the Tau_date\n",
    "        T_integer=X.shape[0]                 # associating an integer to the T date\n",
    "        exponent=[-(np.log(2)/Tau_integer)*abs((t-T_integer))for t in np.arange(0,T_integer)]\n",
    "        P=1/np.sum(np.exp(exponent))\n",
    "        time_conditioned_p=P*np.exp(exponent)\n",
    "        return pd.Series(time_conditioned_p,name='T_cond_prob',index=X.index)\n",
    "    elif data_freq == 'm':\n",
    "        X=X.loc[:T_date]\n",
    "        Tau_integer=X.loc[:Tau_date].shape[0] # associating an integer to the Tau_date\n",
    "        T_integer=X.shape[0]              # associating an integer to the T date\n",
    "        X=X.loc[:T_date]\n",
    "        exponent=[-(np.log(2)/Tau_integer)*abs((t-T_integer))for t in np.arange(0,T_integer)]\n",
    "        P=1/np.sum(np.exp(exponent))\n",
    "        time_conditioned_p=pd.Series(P*np.exp(exponent),name='T_cond_prob',index=X.index)\n",
    "        return time_conditioned_p.resample('M').sum()\n",
    "    else:\n",
    "        X=X.loc[:T_date]\n",
    "        Tau_integer=X.loc[:Tau_date].shape[0] # associating an integer to the Tau_date\n",
    "        T_integer=X.shape[0]              # associating an integer to the T date\n",
    "        X=X.loc[:T_date]\n",
    "        exponent=[-(np.log(2)/Tau_integer)*abs((t-T_integer))for t in np.arange(0,T_integer)]\n",
    "        P=1/np.sum(np.exp(exponent))\n",
    "        time_conditioned_p=pd.Series(P*np.exp(exponent),name='T_cond_prob',index=X.index)\n",
    "        return time_conditioned_p.resample('Y').sum()\n",
    "\n",
    "    "
   ]
  },
  {
   "cell_type": "markdown",
   "id": "115d3271",
   "metadata": {},
   "source": [
    "To express our views on volatility, we may need to consider a restricted dataset (observations - rolling_window) and initialize a prior distribution based on this limited information."
   ]
  },
  {
   "cell_type": "code",
   "execution_count": 469,
   "id": "dd959c2a",
   "metadata": {},
   "outputs": [],
   "source": [
    "w=[0.2, 0.2, 0.2, 0.2, 0.2] #weights\n",
    "scaling_factor='d'\n",
    "if scaling_factor=='d':\n",
    "    wndw=252\n",
    "elif scaling_factor=='m':\n",
    "    wndw=12\n",
    "else:\n",
    "    wndw=2\n",
    "#x_r=x.iloc[0:(len(x)-wndw+1)]\n",
    "epsilon_restricted=epsilon.iloc[wndw-1:]\n",
    "x_restricted=x.iloc[wndw-1:]\n"
   ]
  },
  {
   "cell_type": "markdown",
   "id": "41e55fda",
   "metadata": {},
   "source": [
    "## Testing the function for the prior "
   ]
  },
  {
   "cell_type": "code",
   "execution_count": 470,
   "id": "431502fc",
   "metadata": {},
   "outputs": [
    {
     "name": "stdout",
     "output_type": "stream",
     "text": [
      "0.9999999999999999\n"
     ]
    }
   ],
   "source": [
    "\n",
    "tau_date='2019-01-04'\n",
    "T_date=epsilon_restricted.index[-1]\n",
    "time_cond_prob= Exp_Decay_prob(epsilon_restricted,T_date,tau_date)\n",
    "print(np.sum(time_cond_prob))"
   ]
  },
  {
   "cell_type": "code",
   "execution_count": 471,
   "id": "de32f6d5",
   "metadata": {},
   "outputs": [],
   "source": [
    "exp_decay_flag=True\n",
    "if exp_decay_flag:\n",
    "    p_0=time_cond_prob\n",
    "else: #equally weighted probability as a prior\n",
    "    p_0=pd.Series(np.ones(len(epsilon_restricted))*1/len(epsilon_restricted),index=epsilon_restricted.index)"
   ]
  },
  {
   "cell_type": "markdown",
   "id": "cd964e35",
   "metadata": {},
   "source": [
    "## Defining the user views"
   ]
  },
  {
   "cell_type": "markdown",
   "id": "08c5d1de",
   "metadata": {},
   "source": [
    "The most simple function $v_1(X)$ we can think about, is the function that maps our risk drivers $X$ in a portfolio.\n",
    "A function mapping an N-dimensional object to a one-dimensional object.\n",
    "* $V_1(X) :=  Xw $\n",
    "* $\\mathbb{E}_p{\\bigg(V_1(X)\\bigg)} := p'V_1(X) $\n",
    "* $V:=E_{p}{V_1(X)}\\geq v_{*_{1}}$"
   ]
  },
  {
   "cell_type": "code",
   "execution_count": 472,
   "id": "6baf41c8",
   "metadata": {},
   "outputs": [],
   "source": [
    "\n",
    "v_1x=(epsilon_restricted@w)"
   ]
  },
  {
   "cell_type": "code",
   "execution_count": 473,
   "id": "c96b0716",
   "metadata": {},
   "outputs": [],
   "source": [
    "data_frequency='daily'\n",
    "if data_frequency=='daily':\n",
    "    scaling_adjustment=252\n",
    "elif data_frequency=='monthly':\n",
    "    scaling_adjustment=22\n",
    "else:\n",
    "    scaling_adjustment=1\n",
    "\n",
    "\n"
   ]
  },
  {
   "cell_type": "markdown",
   "id": "7c1656e9",
   "metadata": {},
   "source": [
    "* $v_{*_{1}} \\approx -10\\%$ (yearly)"
   ]
  },
  {
   "cell_type": "markdown",
   "id": "c68104cf",
   "metadata": {},
   "source": [
    "Suppose we have  a bearish views for our portfolio, we can state our view as follows : <br>\n",
    "* $V:E_{p}{v_1(X)}\\leq v_{*_{1}}$\n",
    "* $\\bigg[p'[Xw]\\bigg] \\leq v_{*_{1}}$ "
   ]
  },
  {
   "cell_type": "markdown",
   "id": "4215d3a5",
   "metadata": {},
   "source": [
    "We can define also a constraint for the portfolio volatility. Let:\n",
    "* $\\Sigma_{x_{t}}$  NXN  semi-positive definite rolling var-cov matrix "
   ]
  },
  {
   "cell_type": "markdown",
   "id": "c1f9fce8",
   "metadata": {},
   "source": [
    "* $v_2(x_{t}) := \\sqrt{w'\\Sigma_{x{t}} w}$ <br>\n",
    "* $V_2(X) := \\bigg[v_2(x_{1}),v_2(x_{2}),...,v_2(x_{t}),...,v_2(x_{T})\\bigg]'$ <br>\n",
    "* $\\mathbb{E}_p{\\bigg(V_2(X)\\bigg)} := p'V_2(X) $"
   ]
  },
  {
   "cell_type": "markdown",
   "id": "72cb6ffd",
   "metadata": {},
   "source": [
    "we can set the intensity of our view $v_2*$ based on the current level of the volatility for our portfolio. <br>\n",
    "\n",
    "Assuming  a more volatile market, we can state our view as follows:\n",
    "\n",
    "*  $V:=E_{p}\\bigg[{V_2(X)}\\bigg]\\geq v_{*_{2}}$\n",
    "\n"
   ]
  },
  {
   "cell_type": "markdown",
   "id": "b5e4e390",
   "metadata": {},
   "source": [
    "$v_{*_{2}} \\approx 11\\%$ (yearly)"
   ]
  },
  {
   "cell_type": "markdown",
   "id": "bcdf1e4c",
   "metadata": {},
   "source": [
    "Defining $V_2(X)$"
   ]
  },
  {
   "cell_type": "code",
   "execution_count": 474,
   "id": "3567236a",
   "metadata": {},
   "outputs": [
    {
     "data": {
      "text/plain": [
       "0.46690904483249396"
      ]
     },
     "execution_count": 474,
     "metadata": {},
     "output_type": "execute_result"
    }
   ],
   "source": [
    "(epsilon@w).std()"
   ]
  },
  {
   "cell_type": "code",
   "execution_count": 475,
   "id": "f51c22ac",
   "metadata": {},
   "outputs": [],
   "source": [
    "v_2x=(epsilon@w).rolling(window=wndw).std().dropna()\n",
    "\n"
   ]
  },
  {
   "cell_type": "markdown",
   "id": "5cd933fc",
   "metadata": {},
   "source": [
    "##  Entropy minimization"
   ]
  },
  {
   "cell_type": "markdown",
   "id": "93105c10",
   "metadata": {},
   "source": [
    "$p^{post}$ = $ argmin_{q} \\ \\Bigg \\{ \\sum_{t=1}^{T}q_t(ln(q_t) - ln(p^{0}_{t})) \\Bigg \\}$ <br>\n",
    "$ Subject \\ to$<br> \n",
    "$Fq\\leq f$ <br> \n",
    "$Hq$ $=$ $h$ <br>\n",
    "We have collected all the inequality constraints in the matrix-vector pair $(F,f)$ and\n",
    "all the equality constraints in the matrix-vector pair $(H,h)$, we do not include the extra-constraint\n",
    "$\\bigg(q>0\\bigg)$ because it will be automatically satisfied. <br>\n",
    " The Lagrangian function reads: <br> <br>\n",
    " $L(q,\\lambda_{1} , \\lambda_{2})$ = $q'(ln(q)-ln(p^{0})) + \\lambda_1' (Fq-f) +  \\lambda_2'(Hq-h)$ <br> <br>\n",
    "   * $\\lambda_1$ is a row  vector with number of inequality constraint = number of rows <br>\n",
    "   * $\\lambda_2$ is a row  vector with number of equality constraint = number of rows <br>\n",
    "   * $F$ is a matrix with K rows (K=number of inequality constraint) and T columns(number of risk drivers' observations) <br>\n",
    "   * $H$ is a matrix with J rows (J=number of equality constraint) and T columns (number of risk drivers' observations) <br>\n",
    "\n",
    " the first order condition for q read: <br> <br>\n",
    " $ 0 = \\frac{dL}{dq} = ln(q) - ln(p^{0}) + 1 + F' \\lambda_1 + H'\\lambda_2$ <br> <br>\n",
    " Solving for q: <br>\n",
    " <br>\n",
    " $q(\\lambda_1,\\lambda_2) = e^{ln(p^{0}) - 1 -F'\\lambda_1 - H'\\lambda_2}$\n",
    "<br> <br>\n",
    "The solution is always positive, so we do not need the $\\bigg(q>0\\bigg)$ constraint <br> <br>\n",
    "The Lagrange dual function is defined as: <br>\n",
    "<br>\n",
    "$G(\\lambda_1,\\lambda_2) = L(q(\\lambda_1,\\lambda_2),\\lambda_1,\\lambda_2)$ <br> <br>\n",
    "The optimal Lagrange multipliers follow from the maximization of the Lagrange dual function (or the minimization of the negative Lagrange dual function): <br>\n",
    "<br>\n",
    "$ (\\lambda_1^{*},\\lambda_2^{*})$ = $ argmin \\ \\bigg \\{ -G(\\lambda_1,\\lambda_2) \\bigg \\}$ <br>\n",
    "$subject \\ to$ <br>\n",
    "$\\lambda_1\\leq 0$ <br>\n",
    "<br>\n",
    "Then with the optimal lagrange multiplayers we can define the optimal set of probabilities as: <br>\n",
    "$p$ = $q(\\lambda_1^{*},\\lambda_2^{*})$\n"
   ]
  },
  {
   "cell_type": "markdown",
   "id": "d41ea4f9",
   "metadata": {},
   "source": [
    "## Defining F and H  matrix for inequality and equality constraints"
   ]
  },
  {
   "cell_type": "markdown",
   "id": "d36ae087",
   "metadata": {},
   "source": [
    "H is an object used to put equality constraints.\n",
    "In this case we want that the sum of our probability is equal to one\n",
    "* $Hq=h$\n",
    "* $H = [1,1...,1]$\n",
    "* $q=[p_{1},p_{2}...p_{T}]'$\n",
    "* h=1"
   ]
  },
  {
   "cell_type": "code",
   "execution_count": 476,
   "id": "8d7c3085",
   "metadata": {},
   "outputs": [],
   "source": [
    "H=pd.DataFrame(np.ones(len(p_0)),index=p_0.index,columns=['ones']).T\n",
    "h=pd.Series([1],index=H.index)"
   ]
  },
  {
   "cell_type": "markdown",
   "id": "f996b9ac",
   "metadata": {},
   "source": [
    "$-F_{v_1x}q > -v_{*_{1}}$ = $F_{v_1x} < v_{*_{1}}$ <br>\n",
    "$F_{v_2x}q>v_{*_{2}}$"
   ]
  },
  {
   "cell_type": "markdown",
   "id": "9316bb6c",
   "metadata": {},
   "source": [
    "\n",
    "* $F= \\bigg[\\begin{matrix}\n",
    "-v_{1}(x_{t})& ... & -v_{1}(x_{T}) \\\\\n",
    "v_{2}(x_{t})& ... & v_{2}(x_{T})\\end{matrix}\\bigg]$ <br>\n",
    "* $f=\\bigg[\\begin{matrix} -v_{*_{1}} \\\\ v_{*_{2}}\\end{matrix}\\bigg]$"
   ]
  },
  {
   "cell_type": "markdown",
   "id": "bb74f00f",
   "metadata": {},
   "source": [
    "## The mathematics of constraints\n",
    "We are using re-scaled data $\\epsilon$ but the user may want to express views on the original data $x$\n",
    "Starting from this relationship: <br>\n",
    "$\\frac{\\epsilon - 0}{1}= \\frac{x - \\bar{x}}{\\sigma(x)}$\n",
    "* $\\bar{\\epsilon}=0$\n",
    "* $\\sigma(\\epsilon)=1$\n",
    "<br> if we want to add a stressed view then we have to set $(\\bar{\\epsilon} -x)>0$ and $\\sigma(\\epsilon)<1 $ <br>\n",
    "In this case: <br> <br>\n",
    "* $x_{stressed}=(\\epsilon - \\bar{\\epsilon} + \\bar{x}) \\frac{\\sigma(x)}{\\sigma(\\epsilon)}$ \n",
    "<br> <br>\n",
    "if $\\bar{\\epsilon}=0$ and $\\sigma(\\epsilon)=1$ we just get our original dataset: <br> <br>\n",
    "* $x=(\\epsilon + \\bar{x}) \\sigma(x)$ \n"
   ]
  },
  {
   "cell_type": "code",
   "execution_count": 477,
   "id": "59af419f",
   "metadata": {},
   "outputs": [
    {
     "data": {
      "text/plain": [
       "0.46226894008962044"
      ]
     },
     "execution_count": 477,
     "metadata": {},
     "output_type": "execute_result"
    }
   ],
   "source": [
    "port_epsilon=epsilon.iloc[wndw-1:]@w\n",
    "port_epsilon.mean()\n",
    "port_epsilon.std()"
   ]
  },
  {
   "cell_type": "code",
   "execution_count": 478,
   "id": "11a5cc81",
   "metadata": {},
   "outputs": [],
   "source": [
    "v_star1=-0.1\n",
    "v_star2=0.50 #upper bound\n",
    "#v_star2=0.3 # lower bound\n",
    "F=pd.DataFrame([-v_1x, v_2x],index=['Exp_value_const','Volatility_const'],columns=p_0.index)\n",
    "f=pd.Series([-v_star1,v_star2],index=F.index)\n",
    "#F=pd.DataFrame([-v_1x, -v_2x],index=['Exp_value_const','Volatility_const'],columns=p_0.index)\n",
    "#f=pd.Series([-v_star1,-v_star2],index=F.index)\n",
    "\n",
    "#v_star1=0.1\n",
    "#v_star2=1.3 #upper bound\n",
    "#v_star2=0.3 #lower bound\n",
    "#F=pd.DataFrame([v_1x, v_2x],index=['Exp_value_const','Volatility_const'],columns=p_0.index)\n",
    "#f=pd.Series([v_star1,v_star2],index=F.index)\n",
    "#F=pd.DataFrame([-v_1x, -v_2x],index=['Exp_value_const','Volatility_const'],columns=p_0.index)\n",
    "#f=pd.Series([-v_star1,-v_star2],index=F.index)\n",
    "#v_star1=0\n",
    "#v_star2=1.2 #upper bound\n",
    "#v_star2=0.3#lower bound\n",
    "#F=pd.DataFrame([v_1x, v_2x],index=['Exp_value_const','Volatility_const'],columns=p_0.index)\n",
    "#f=pd.Series([v_star1,v_star2],index=F.index)\n",
    "#v_star2=1 #upper bound\n",
    "#F=pd.DataFrame([v_1x, -v_2x],index=['Exp_value_const','Volatility_const'],columns=p_0.index)\n",
    "#f=pd.Series([v_star1,-v_star2],index=F.index)\n",
    "\n"
   ]
  },
  {
   "cell_type": "code",
   "execution_count": 479,
   "id": "142b52a4",
   "metadata": {},
   "outputs": [
    {
     "data": {
      "text/html": [
       "<div>\n",
       "<style scoped>\n",
       "    .dataframe tbody tr th:only-of-type {\n",
       "        vertical-align: middle;\n",
       "    }\n",
       "\n",
       "    .dataframe tbody tr th {\n",
       "        vertical-align: top;\n",
       "    }\n",
       "\n",
       "    .dataframe thead th {\n",
       "        text-align: right;\n",
       "    }\n",
       "</style>\n",
       "<table border=\"1\" class=\"dataframe\">\n",
       "  <thead>\n",
       "    <tr style=\"text-align: right;\">\n",
       "      <th>date</th>\n",
       "      <th>2000-12-20</th>\n",
       "      <th>2000-12-21</th>\n",
       "      <th>2000-12-22</th>\n",
       "      <th>2000-12-25</th>\n",
       "      <th>2000-12-26</th>\n",
       "      <th>2000-12-27</th>\n",
       "      <th>2000-12-28</th>\n",
       "      <th>2000-12-29</th>\n",
       "      <th>2001-01-01</th>\n",
       "      <th>2001-01-02</th>\n",
       "      <th>...</th>\n",
       "      <th>2020-03-27</th>\n",
       "      <th>2020-03-30</th>\n",
       "      <th>2020-03-31</th>\n",
       "      <th>2020-04-01</th>\n",
       "      <th>2020-04-02</th>\n",
       "      <th>2020-04-03</th>\n",
       "      <th>2020-04-06</th>\n",
       "      <th>2020-04-07</th>\n",
       "      <th>2020-04-08</th>\n",
       "      <th>2020-04-09</th>\n",
       "    </tr>\n",
       "  </thead>\n",
       "  <tbody>\n",
       "    <tr>\n",
       "      <th>Exp_value_const</th>\n",
       "      <td>-0.060043</td>\n",
       "      <td>-0.433907</td>\n",
       "      <td>-0.617178</td>\n",
       "      <td>-0.79329</td>\n",
       "      <td>-0.243429</td>\n",
       "      <td>-0.182916</td>\n",
       "      <td>0.041360</td>\n",
       "      <td>-0.143654</td>\n",
       "      <td>-0.769027</td>\n",
       "      <td>-0.848305</td>\n",
       "      <td>...</td>\n",
       "      <td>0.357927</td>\n",
       "      <td>-0.967254</td>\n",
       "      <td>0.654160</td>\n",
       "      <td>1.428057</td>\n",
       "      <td>-0.263000</td>\n",
       "      <td>0.559462</td>\n",
       "      <td>-1.214129</td>\n",
       "      <td>0.370138</td>\n",
       "      <td>-0.340338</td>\n",
       "      <td>-1.509410</td>\n",
       "    </tr>\n",
       "    <tr>\n",
       "      <th>Volatility_const</th>\n",
       "      <td>0.482204</td>\n",
       "      <td>0.480748</td>\n",
       "      <td>0.479927</td>\n",
       "      <td>0.48090</td>\n",
       "      <td>0.478632</td>\n",
       "      <td>0.476694</td>\n",
       "      <td>0.469085</td>\n",
       "      <td>0.468148</td>\n",
       "      <td>0.468409</td>\n",
       "      <td>0.469356</td>\n",
       "      <td>...</td>\n",
       "      <td>0.733716</td>\n",
       "      <td>0.737331</td>\n",
       "      <td>0.737566</td>\n",
       "      <td>0.741660</td>\n",
       "      <td>0.742178</td>\n",
       "      <td>0.742496</td>\n",
       "      <td>0.747152</td>\n",
       "      <td>0.747237</td>\n",
       "      <td>0.747898</td>\n",
       "      <td>0.755442</td>\n",
       "    </tr>\n",
       "  </tbody>\n",
       "</table>\n",
       "<p>2 rows × 5037 columns</p>\n",
       "</div>"
      ],
      "text/plain": [
       "date              2000-12-20  2000-12-21  2000-12-22  2000-12-25  2000-12-26  \\\n",
       "Exp_value_const    -0.060043   -0.433907   -0.617178    -0.79329   -0.243429   \n",
       "Volatility_const    0.482204    0.480748    0.479927     0.48090    0.478632   \n",
       "\n",
       "date              2000-12-27  2000-12-28  2000-12-29  2001-01-01  2001-01-02  \\\n",
       "Exp_value_const    -0.182916    0.041360   -0.143654   -0.769027   -0.848305   \n",
       "Volatility_const    0.476694    0.469085    0.468148    0.468409    0.469356   \n",
       "\n",
       "date              ...  2020-03-27  2020-03-30  2020-03-31  2020-04-01  \\\n",
       "Exp_value_const   ...    0.357927   -0.967254    0.654160    1.428057   \n",
       "Volatility_const  ...    0.733716    0.737331    0.737566    0.741660   \n",
       "\n",
       "date              2020-04-02  2020-04-03  2020-04-06  2020-04-07  2020-04-08  \\\n",
       "Exp_value_const    -0.263000    0.559462   -1.214129    0.370138   -0.340338   \n",
       "Volatility_const    0.742178    0.742496    0.747152    0.747237    0.747898   \n",
       "\n",
       "date              2020-04-09  \n",
       "Exp_value_const    -1.509410  \n",
       "Volatility_const    0.755442  \n",
       "\n",
       "[2 rows x 5037 columns]"
      ]
     },
     "execution_count": 479,
     "metadata": {},
     "output_type": "execute_result"
    }
   ],
   "source": [
    "F"
   ]
  },
  {
   "cell_type": "markdown",
   "id": "7b7e57b9",
   "metadata": {},
   "source": [
    "Now we have all the input to minimize the dual function. <br>\n",
    "* $L(q,\\lambda_{1} , \\lambda_{2})$ $\\equiv$ $q'(ln(q)-ln(p^{(0)})) + \\lambda_1' (Fq-f) +  \\lambda_2'(Hq-h)$ <br> <br>\n",
    " \n",
    "* $q(\\lambda_{1},\\lambda_{2})' = e^{ln(p^{0})' - 1 -F'\\lambda_1 - H'\\lambda_2}$\n",
    "<br> <br>\n",
    "* $G(\\lambda_1,\\lambda_2) \\equiv L(q(\\lambda_1,\\lambda_2),\\lambda_1,\\lambda_2)$ <br> <br>\n",
    "* $ (\\lambda_1^{*},\\lambda_2^{*})$ $\\equiv$ $ argmin \\ \\bigg \\{ -G(\\lambda_1,\\lambda_2) \\bigg \\}$ <br>\n",
    "$subject \\ to$ <br>\n",
    "$\\lambda_1\\leq 0$ <br>\n",
    "<br>\n",
    "* $p$ $\\equiv$ $q(\\lambda_1^{*},\\lambda_2^{*})$\n"
   ]
  },
  {
   "cell_type": "markdown",
   "id": "3f313520",
   "metadata": {},
   "source": [
    "Let the length of the  $\\lambda$ vector be determined by the number of constraints, where $K_{ineq}$ and $K_{eq}$ represent the number of inequality and equality constraints, respectively."
   ]
  },
  {
   "cell_type": "code",
   "execution_count": 480,
   "id": "e020452c",
   "metadata": {},
   "outputs": [],
   "source": [
    "K_eq=len(h)\n",
    "K_ineq=len(f)\n",
    "# initial guess\n",
    "lmbda_vector_0=np.ones(K_eq+K_ineq)\n",
    "lmbda_vector_0[K_eq:K_ineq+1]=-1 \n",
    "lmbda_2=lmbda_vector_0[0:K_eq]       # Lagrange multipliers for equality constraints\n",
    "lmbda_1=lmbda_vector_0[K_eq:K_ineq+1]# Lagrange multipliers for inequality constraints"
   ]
  },
  {
   "cell_type": "markdown",
   "id": "83d221bb",
   "metadata": {},
   "source": [
    "In order to apply the duality principle we have to check if the Lagrangian is convex or preferly strictly convex, using the relationship:\n",
    "$$ \\max_{\\lambda_1 \\geq 0, \\lambda_2} G(\\lambda_1,\\lambda_2) \\geq min_{q}L(q,\\lambda_1,\\lambda_2)$$\n",
    " we should look for a dual function strictly concave in order to have:\n",
    "$$ \\max_{\\lambda_1 \\geq 0, \\lambda_2} G(\\lambda_1,\\lambda_2) = min_{q}L(q,\\lambda_1,\\lambda_2)$$\n",
    "Or taking the negative sign we can still check for stricly convexity\n",
    "$$ \\min_{\\lambda_1 \\leq 0, \\lambda_2} -G(\\lambda_1,\\lambda_2) = min_{q}L(q,\\lambda_1,\\lambda_2)$$\n",
    "\n",
    "  "
   ]
  },
  {
   "cell_type": "markdown",
   "id": "c159f272",
   "metadata": {},
   "source": [
    "$q(\\lambda_1,\\lambda_2)' = e^{ln(p^{0}) - 1 -F'\\lambda_1 - H'\\lambda_2}$ <br> <br>\n",
    "$L(q,\\lambda_{1} , \\lambda_{2})$ $=$ $q'(ln(q)-ln(p^{0})) + \\lambda_1' (Fq-f) +  \\lambda_2'(Hq-h)$"
   ]
  },
  {
   "cell_type": "markdown",
   "id": "51b00b34",
   "metadata": {},
   "source": [
    "I am creating two objective functions:\n",
    "* One for the case in which we have only equality constraint\n",
    "* One for the case in which we have both\n",
    "* I am not considering the case of only inequality constraint, because the constraint on the sum of probabilities=1 must be always satisfied"
   ]
  },
  {
   "cell_type": "code",
   "execution_count": 481,
   "id": "526741d5",
   "metadata": {},
   "outputs": [],
   "source": [
    "def neg_Dual_func_eq_constr(Lmbda_vector,P_0,H_matrix,h):\n",
    "   '''Lmbda_vector is a ndarray with (k_ineq + k_eq) number of elements\n",
    "   P_0 is a series of prior probabilities with T number of elements\n",
    "   H matrix must be a dataframe K_eq(number of equality constraints) rows and T columns (T number of scenarios)\n",
    "   h is a series with equality constraints values\n",
    "   lmbda vector is an array with initial values for Lagrange multipliers\n",
    "   The function returns the objective function value to optimize '''\n",
    "   K_eq=len(h)\n",
    "   lmbda_2=Lmbda_vector[0:K_eq]\n",
    "   Lmbda_vector[K_eq:]=0\n",
    "   q=np.exp(np.log(P_0) - 1 - H_matrix.T.dot(lmbda_2))\n",
    "   Dual_func= q.T.dot(np.log(q) - np.log(P_0)) + lmbda_2.T.dot(H_matrix.dot(q)-h)\n",
    "   return - Dual_func\n"
   ]
  },
  {
   "cell_type": "code",
   "execution_count": 482,
   "id": "c4415320",
   "metadata": {},
   "outputs": [],
   "source": [
    "def neg_Dual_func_constr(Lmbda_vector,P_0,F_matrix,H_matrix,f,h):\n",
    "   '''Lmbda_vector is a ndarray with (k_ineq + k_eq) number of elements\n",
    "   P_0 is a series of prior probabilities with T number of elements\n",
    "   F matrix must be a dataframe with K_ineq(number of inequality constraints) rows and T columns (T number of scenarios)\n",
    "   H matrix must be a dataframe K_eq(number of equality constraints) rows and T columns (T number of scenarios)\n",
    "   f is a series with intensity views for inequality constraints \n",
    "   h is a sereis with intensity views for equality constraints\n",
    "   lmbda vector is an array with initial values for Lagrange multipliers\n",
    "   The function returns the objective function value to optimize'''\n",
    "\n",
    "   K_eq=len(h)\n",
    "   K_ineq=len(f)\n",
    "   lmbda_1=Lmbda_vector[K_eq:K_ineq+1]\n",
    "   lmbda_2=Lmbda_vector[0:K_eq]\n",
    "   q=np.exp(np.log(P_0) - 1 - F_matrix.T.dot(lmbda_1) - H_matrix.T.dot(lmbda_2))\n",
    "   Dual_func=  q.T.dot(np.log(q) - np.log(P_0)) + lmbda_1.T.dot(F_matrix.dot(q)-f) + lmbda_2.T.dot(H_matrix.dot(q)-h)\n",
    "   return - Dual_func"
   ]
  },
  {
   "cell_type": "markdown",
   "id": "aca0ae45",
   "metadata": {},
   "source": [
    "Some tests"
   ]
  },
  {
   "cell_type": "code",
   "execution_count": 483,
   "id": "a3398bb6",
   "metadata": {},
   "outputs": [],
   "source": [
    "if (K_eq!=0) & (K_ineq!=0):\n",
    "    obj_fun= neg_Dual_func_constr\n",
    "else:\n",
    "    obj_fun= neg_Dual_func_eq_constr"
   ]
  },
  {
   "cell_type": "code",
   "execution_count": 484,
   "id": "aaaf7c95",
   "metadata": {},
   "outputs": [],
   "source": [
    "\n",
    "#q=np.exp(np.log(p_0) - 1 - F.T.dot(lmbda_1) - H.T.dot(lmbda_2)) # analytical formula for posterior probabilities\n",
    "if K_ineq!=0:\n",
    "    obj_fun(lmbda_vector_0,time_cond_prob,F,H,f,h) # value of the negative dual function\n",
    "else:\n",
    "    obj_fun(lmbda_vector_0,time_cond_prob,H,h) #value of the negative dual function with only equality constraints\n"
   ]
  },
  {
   "cell_type": "markdown",
   "id": "761271d0",
   "metadata": {},
   "source": [
    "## KKT Conditions "
   ]
  },
  {
   "cell_type": "markdown",
   "id": "3362c8ad",
   "metadata": {},
   "source": [
    " $-L(q,\\lambda_{1} , \\lambda_{2})$ = $-\\bigg[q'(ln(q)-ln(p^{(0)})) + \\lambda_1' (-Fq+f) +  \\lambda_2'(Hq-h)\\bigg]$ <br> <br>\n",
    "\n",
    " * $ \\frac{dL(q,\\lambda_{1} , \\lambda_{2})}{dq}=0$ <br> <br>\n",
    " * $\\lambda_1(Fq-f)=0$, <br> <br>\n",
    " * $Hq=h$ <br> <br>\n",
    " Since there is the sign $-$ before the function the inequality constraints are: \n",
    " * $ Fq - f \\geq 0$\n",
    " * $\\lambda_1 \\leq 0$\n"
   ]
  },
  {
   "cell_type": "markdown",
   "id": "0c9aa65b",
   "metadata": {},
   "source": [
    "Now we can define constraints for the KKT conditions"
   ]
  },
  {
   "cell_type": "markdown",
   "id": "116d1742",
   "metadata": {},
   "source": [
    "$-L(q,\\lambda_{1} , \\lambda_{2})$ = $-\\bigg[q'(ln(q)-ln(p^{(0)})) + \\lambda_1' (-Fq+f) +  \\lambda_2'(Hq-h)\\bigg]$ <br> <br>\n",
    "$ \\frac{dL(q,\\lambda_{1} , \\lambda_{2})}{dq}=0$"
   ]
  },
  {
   "cell_type": "markdown",
   "id": "1f99d0da",
   "metadata": {},
   "source": [
    "Function to evaluate the gradient  of the Dual function"
   ]
  },
  {
   "cell_type": "code",
   "execution_count": 485,
   "id": "a59d94ad",
   "metadata": {},
   "outputs": [
    {
     "name": "stderr",
     "output_type": "stream",
     "text": [
      "/var/folders/7x/nx3n6t7d00b8cp2p93hdz0z40000gn/T/ipykernel_1046/2058809878.py:1: FutureWarning: The default dtype for empty Series will be 'object' instead of 'float64' in a future version. Specify a dtype explicitly to silence this warning.\n",
      "  def neg_Lagrangian_derivative(x,p_0,H_matrix,h,F_matrix=pd.DataFrame([]),f=pd.Series([]),eps=1e-5,function=neg_Dual_func_constr,data_freq=scaling_factor,num_eval=100):\n"
     ]
    }
   ],
   "source": [
    "def neg_Lagrangian_derivative(x,p_0,H_matrix,h,F_matrix=pd.DataFrame([]),f=pd.Series([]),eps=1e-5,function=neg_Dual_func_constr,data_freq=scaling_factor,num_eval=100):\n",
    "    '''This function is used to estimate the gradient of the objective function\n",
    "        x is our vector of lagrangian multipliers\n",
    "        p_0 is the series of prior probabilities\n",
    "        F matrix must be a dataframe with K_ineq(number of inequality constraints) rows and T columns (T number of scenarios)\n",
    "        is initialized with an empty dataframe in the case we do not have inequality constraints\n",
    "        H matrix must be a dataframe K_eq(number of equality constraints) rows and T columns (T number of scenarios)\n",
    "        f is a series with intensity views for inequality constraints is initialized with an empty series in the case we do not have inequality constraints\n",
    "        h is a sereis with intensity views for equality constraints\n",
    "        eps is the infinitesimal change in the function input in order to estimate the derivative, be carefull if the number is too small\n",
    "        the problem can be numerical instable\n",
    "        function is the function for which we want to evaluate the derivative\n",
    "        data_freq is the frequency of the data\n",
    "        num_eval is the number of function evaluation to estimate the derivative, the higher is the number the more precise results we get\n",
    "        even though it comes at the cost of more computational time\n",
    "    '''\n",
    "    if data_freq=='y':\n",
    "        num_eval=len(x)\n",
    "    if function == neg_Dual_func_constr:\n",
    "        K_eq=len(h) # number of equality constraint\n",
    "        K_ineq=len(f) # number of inequality constraint\n",
    "        lmbda_1=x[K_eq:K_ineq+1] # Lagrange multipliers for inequality constraints\n",
    "        lmbda_2=x[0:K_eq]        # Lagrange multipliers for equality constraints \n",
    "        q=np.exp(np.log(p_0) - 1 - F_matrix.T.dot(lmbda_1) - H_matrix.T.dot(lmbda_2))\n",
    "        L_addendum= lmbda_1.T.dot(F.dot(q)-f) + lmbda_2.T.dot(H.dot(q)-h)\n",
    "    else:\n",
    "        K_eq=len(h)\n",
    "        lmbda_2=x[0:K_eq] \n",
    "        q=np.exp(np.log(p_0) - 1 - H_matrix.T.dot(lmbda_2))\n",
    "        L_addendum= lmbda_2.T.dot(H.dot(q)-h)\n",
    "    def neg_Lagrangian(q):\n",
    "        return - (q.T.dot(np.log(q)-np.log(p_0)) + L_addendum)\n",
    "    n=q.shape[0]\n",
    "    g_x= lambda x:neg_Lagrangian(x)\n",
    "    random.seed(20)\n",
    "    lst = random.sample(range(1,len(q)),num_eval) #extract randomly some elements of q in which evaluate the derivative\n",
    "    k=len(lst)\n",
    "    stoc_gradient = np.full(k,np.nan) #pre-allocation of the Gradient\n",
    "    j=0\n",
    "    for i in lst:\n",
    "        # creating a diagonal matrix with the infinitesimal increment in the diagonal, \n",
    "        # indexing with [i] we create a vector of 0 except for the i-th element which is equal to eps\n",
    "        # then we add 0 to all q elements, except for the i-th element which is added by eps\n",
    "        stoc_gradient[j]=(g_x(q + eps*np.eye(n)[i]) - 2*g_x(q) + g_x(q - eps*np.eye(n)[i])) / (2*eps)\n",
    "        j=j+1\n",
    "    return stoc_gradient\n",
    "#neg_Lagrangian_derivative(lmbda_vector_0,p_0,F,H,f,h,eps=1e-5)\n",
    "\n"
   ]
  },
  {
   "cell_type": "markdown",
   "id": "f5fee4ab",
   "metadata": {},
   "source": [
    "if K_ineq!=0:\n",
    "    #neg_Lagrangian_derivative(lmbda_vector_0,p_0,H,h,F,f,eps=1e-5)\n",
    "else:\n",
    "    #neg_Lagrangian_derivative(lmbda_vector_0,p_0,H,h,eps=1e-5,function=neg_Dual_func_eq_constr)\n"
   ]
  },
  {
   "cell_type": "code",
   "execution_count": 486,
   "id": "0d9ee393",
   "metadata": {},
   "outputs": [
    {
     "data": {
      "text/plain": [
       "Exp_value_const     0.1\n",
       "Volatility_const    0.5\n",
       "dtype: float64"
      ]
     },
     "execution_count": 486,
     "metadata": {},
     "output_type": "execute_result"
    }
   ],
   "source": [
    "f"
   ]
  },
  {
   "cell_type": "markdown",
   "id": "59c263e7",
   "metadata": {},
   "source": [
    "$\\lambda_1(Fq - f)=0$"
   ]
  },
  {
   "cell_type": "code",
   "execution_count": 487,
   "id": "b559e637",
   "metadata": {},
   "outputs": [],
   "source": [
    "def lambda1_fun_eq(x,F_matrix,H_matrix,f,h):\n",
    "     K_ineq=len(f)\n",
    "     K_eq=len(h)\n",
    "     lmbda_1=x[K_eq:K_ineq+1] # Lagrange multipliers for inequality constraints\n",
    "     lmbda_2=x[0:K_eq]        # Lagrange multipliers for equality constraints\n",
    "     q=np.exp(np.log(p_0) - 1 - F_matrix.T.dot(lmbda_1) - H_matrix.T.dot(lmbda_2))\n",
    "     return lmbda_1*(F.dot(q)-f)\n",
    "\n"
   ]
  },
  {
   "cell_type": "markdown",
   "id": "286d416c",
   "metadata": {},
   "source": [
    "$Hq=h$"
   ]
  },
  {
   "cell_type": "code",
   "execution_count": 488,
   "id": "5c127ce5",
   "metadata": {},
   "outputs": [],
   "source": [
    "def lambda2_fun_eq(x,F_matrix,H_matrix,f,h,function=neg_Dual_func_constr):\n",
    "    if function == neg_Dual_func_constr:\n",
    "        K_ineq=len(f)\n",
    "        K_eq=len(h)\n",
    "        lmbda_1=x[K_eq:K_ineq+1] # Lagrange multipliers for inequality constraints\n",
    "        lmbda_2=x[0:K_eq]        # Lagrange multipliers for equality constraints \n",
    "        q=np.exp(np.log(p_0) - 1 - F_matrix.T.dot(lmbda_1) - H_matrix.T.dot(lmbda_2))\n",
    "    else:\n",
    "         K_eq=len(h)\n",
    "         lmbda_2=x[0:K_eq]\n",
    "         q=np.exp(np.log(p_0) - 1 - H_matrix.T.dot(lmbda_2))\n",
    "    return H.dot(q)- h"
   ]
  },
  {
   "cell_type": "markdown",
   "id": "21e95d73",
   "metadata": {},
   "source": [
    "$ Fq - f \\geq 0$"
   ]
  },
  {
   "cell_type": "code",
   "execution_count": 489,
   "id": "9fcc19ec",
   "metadata": {},
   "outputs": [],
   "source": [
    "def ineq_cons(x,F_matrix,H_matrix,f,h):\n",
    "    K_ineq=len(f)\n",
    "    K_eq=len(h)\n",
    "    lmbda_1=x[K_eq:K_ineq+1] # Lagrange multipliers for inequality constraints\n",
    "    lmbda_2=x[0:K_eq]        # Lagrange multipliers for equality constraints \n",
    "    q=np.exp(np.log(p_0) - 1 - F_matrix.T.dot(lmbda_1) - H_matrix.T.dot(lmbda_2))\n",
    "    return F.dot(q)-f"
   ]
  },
  {
   "cell_type": "markdown",
   "id": "ed3edd09",
   "metadata": {},
   "source": [
    "Inequality constraints and equality constraints"
   ]
  },
  {
   "cell_type": "code",
   "execution_count": 490,
   "id": "9769e2ee",
   "metadata": {},
   "outputs": [],
   "source": [
    "if (K_ineq!=0):\n",
    "    cons =    ({'type': 'eq', 'fun': lambda1_fun_eq, 'args': (F,H,f,h)},\n",
    "           {'type': 'eq', 'fun': lambda2_fun_eq, 'args': (F,H,f,h)},\n",
    "           {'type': 'ineq', 'fun': ineq_cons,    'args': (F,H,f,h)})\n",
    "    arguments=(p_0,F,H,f,h)\n",
    "else: \n",
    "    cons = ({'type': 'eq', 'fun': lambda2_fun_eq, 'args': (F,H,f,h)})\n",
    "    arguments=(p_0,H,h)"
   ]
  },
  {
   "cell_type": "markdown",
   "id": "dc8576a3",
   "metadata": {},
   "source": [
    "$\\lambda_1 \\leq 0$"
   ]
  },
  {
   "cell_type": "code",
   "execution_count": 491,
   "id": "c552e4f8",
   "metadata": {},
   "outputs": [],
   "source": [
    "if (K_ineq!=0):\n",
    "    #bnds= [(1*10e4,-1*10e4),(-1*10e-4,0),(-1*10e4,0)]\n",
    "    bnds= [(None,None),(None,0),(None,0)]\n",
    "else:\n",
    "    bnds= [(None,None),(None,None),(None,None)]\n",
    "    "
   ]
  },
  {
   "cell_type": "markdown",
   "id": "9a949e82",
   "metadata": {},
   "source": [
    "Only the lagrangian multiplayers associated with inequality constraints needs a bound"
   ]
  },
  {
   "cell_type": "code",
   "execution_count": 492,
   "id": "542ae757",
   "metadata": {},
   "outputs": [
    {
     "name": "stdout",
     "output_type": "stream",
     "text": [
      "Optimization terminated successfully    (Exit mode 0)\n",
      "            Current function value: -0.34487050344286\n",
      "            Iterations: 12\n",
      "            Function evaluations: 56\n",
      "            Gradient evaluations: 12\n"
     ]
    }
   ],
   "source": [
    "res=spopt.minimize(obj_fun,lmbda_vector_0,method='SLSQP',args=arguments,bounds=bnds,constraints=cons,options={'maxiter':100,'disp': True})\n",
    "Lagrangian_mltps=res.x\n",
    "lmbda_2=Lagrangian_mltps[0:K_eq]\n",
    "lmbda_1=Lagrangian_mltps[K_eq:K_ineq+1]"
   ]
  },
  {
   "cell_type": "markdown",
   "id": "f63df90a",
   "metadata": {},
   "source": [
    "Finally we can compute posterior probabilities according to the analitically formula"
   ]
  },
  {
   "cell_type": "code",
   "execution_count": 493,
   "id": "4c8adb26",
   "metadata": {},
   "outputs": [
    {
     "name": "stdout",
     "output_type": "stream",
     "text": [
      "[ 1.48021473 -0.2676475  -5.59664096]\n",
      "-0.34487050344286\n",
      "     fun: -0.34487050344286\n",
      "     jac: array([-1.04308128e-07, -1.40815973e-06,  2.19792128e-07])\n",
      " message: 'Optimization terminated successfully'\n",
      "    nfev: 56\n",
      "     nit: 12\n",
      "    njev: 12\n",
      "  status: 0\n",
      " success: True\n",
      "       x: array([ 1.48021473, -0.2676475 , -5.59664096])\n"
     ]
    }
   ],
   "source": [
    "Lagrangian_mltps=res.x\n",
    "lmbda_2=Lagrangian_mltps[0:K_eq]\n",
    "lmbda_1=Lagrangian_mltps[K_eq:K_ineq+1]\n",
    "opt_lagran=res.x\n",
    "post_prob=np.exp(np.log(p_0) - 1 - F.T.dot(lmbda_1) - H.T.dot(lmbda_2))\n",
    "print(opt_lagran)\n",
    "print(res.fun)\n",
    "print(res)"
   ]
  },
  {
   "cell_type": "code",
   "execution_count": 494,
   "id": "33994801",
   "metadata": {},
   "outputs": [
    {
     "data": {
      "text/plain": [
       "<AxesSubplot:xlabel='date'>"
      ]
     },
     "execution_count": 494,
     "metadata": {},
     "output_type": "execute_result"
    },
    {
     "data": {
      "image/png": "[encoded data removed]",
      "text/plain": [
       "<Figure size 432x288 with 1 Axes>"
      ]
     },
     "metadata": {
      "needs_background": "light"
     },
     "output_type": "display_data"
    }
   ],
   "source": [
    "#print(F.T.dot(lmbda_1))\n",
    "#print(H.T.dot(lmbda_2))\n",
    "(p_0 - post_prob).plot()"
   ]
  },
  {
   "cell_type": "code",
   "execution_count": 495,
   "id": "33ef04a9",
   "metadata": {},
   "outputs": [
    {
     "data": {
      "text/plain": [
       "<matplotlib.legend.Legend at 0x7fd0a5001160>"
      ]
     },
     "execution_count": 495,
     "metadata": {},
     "output_type": "execute_result"
    },
    {
     "data": {
      "image/png": "[encoded data removed]",
      "text/plain": [
       "<Figure size 432x288 with 1 Axes>"
      ]
     },
     "metadata": {
      "needs_background": "light"
     },
     "output_type": "display_data"
    }
   ],
   "source": [
    "ax=post_prob.plot()\n",
    "p_0.plot()\n",
    "ax.legend(['posterior','prior'])"
   ]
  },
  {
   "cell_type": "markdown",
   "id": "6ccd5cb5",
   "metadata": {},
   "source": [
    "## Data Visualization"
   ]
  },
  {
   "cell_type": "code",
   "execution_count": 496,
   "id": "ad7afd22",
   "metadata": {},
   "outputs": [
    {
     "data": {
      "text/plain": [
       "<matplotlib.legend.Legend at 0x7fd0a533f220>"
      ]
     },
     "execution_count": 496,
     "metadata": {},
     "output_type": "execute_result"
    },
    {
     "data": {
      "image/png": "[encoded data removed]",
      "text/plain": [
       "<Figure size 432x288 with 1 Axes>"
      ]
     },
     "metadata": {
      "needs_background": "light"
     },
     "output_type": "display_data"
    }
   ],
   "source": [
    "\n",
    "ax=p_0.cumsum().plot()\n",
    "post_prob.cumsum().plot()\n",
    "ax.legend(['prior','posterior'])"
   ]
  },
  {
   "cell_type": "code",
   "execution_count": 497,
   "id": "de33e149",
   "metadata": {},
   "outputs": [
    {
     "data": {
      "text/plain": [
       "Text(0.5, 1.0, 'portfolio returns\\\\likelihood  scatter plot')"
      ]
     },
     "execution_count": 497,
     "metadata": {},
     "output_type": "execute_result"
    },
    {
     "data": {
      "image/png": "[encoded data removed]",
      "text/plain": [
       "<Figure size 432x288 with 2 Axes>"
      ]
     },
     "metadata": {
      "needs_background": "light"
     },
     "output_type": "display_data"
    }
   ],
   "source": [
    "plt.scatter(v_1x.index,v_1x.values,c=p_0)\n",
    "plt.xticks(rotation=45)\n",
    "color_map=plt.cm.get_cmap('Blues')\n",
    "cbar = plt.colorbar()\n",
    "cbar.set_label('Likelihood')\n",
    "\n",
    "# add labels and title to the plot\n",
    "plt.xlabel('Time')\n",
    "plt.ylabel('Returns')\n",
    "plt.title('portfolio returns\\likelihood  scatter plot')"
   ]
  },
  {
   "cell_type": "code",
   "execution_count": 498,
   "id": "1b298b5c",
   "metadata": {},
   "outputs": [
    {
     "data": {
      "text/plain": [
       "Text(0.5, 1.0, 'Portfolio returns-likelihood  scatter plot')"
      ]
     },
     "execution_count": 498,
     "metadata": {},
     "output_type": "execute_result"
    },
    {
     "data": {
      "image/png": "[encoded data removed]",
      "text/plain": [
       "<Figure size 432x288 with 2 Axes>"
      ]
     },
     "metadata": {
      "needs_background": "light"
     },
     "output_type": "display_data"
    }
   ],
   "source": [
    "plt.scatter(v_1x.index,v_1x.values,c=post_prob)\n",
    "plt.xticks(rotation=45)\n",
    "color_map=plt.cm.get_cmap('Blues')\n",
    "cbar = plt.colorbar()\n",
    "cbar.set_label('Likelihood')\n",
    "\n",
    "# add labels and title to the plot\n",
    "plt.xlabel('Time')\n",
    "plt.ylabel('Returns')\n",
    "plt.title('Portfolio returns-likelihood  scatter plot')"
   ]
  },
  {
   "cell_type": "code",
   "execution_count": 499,
   "id": "a717c76b",
   "metadata": {},
   "outputs": [
    {
     "data": {
      "text/plain": [
       "Exp_value_const     0.1\n",
       "Volatility_const    0.5\n",
       "dtype: float64"
      ]
     },
     "execution_count": 499,
     "metadata": {},
     "output_type": "execute_result"
    }
   ],
   "source": [
    "f"
   ]
  },
  {
   "cell_type": "markdown",
   "id": "6c4eaac2",
   "metadata": {},
   "source": [
    "Verifying the constraint"
   ]
  },
  {
   "cell_type": "code",
   "execution_count": 500,
   "id": "5472af0d",
   "metadata": {},
   "outputs": [
    {
     "name": "stdout",
     "output_type": "stream",
     "text": [
      "5.551115123125783e-06\n",
      "Exp_value_const    -6.065111e-12\n",
      "Volatility_const   -7.250556e-12\n",
      "dtype: float64\n",
      "ones    2.305933e-12\n",
      "dtype: float64\n"
     ]
    }
   ],
   "source": [
    "gradient= neg_Lagrangian_derivative(opt_lagran,p_0,H,h,F,f,eps=1e-11,num_eval=100)\n",
    "#gradient= neg_Lagrangian_derivative(opt_lagran,p_0,H,h,F,f,eps=1e-11,num_eval=100,function=neg_Dual_func_eq_constr)\n",
    "print(np.max(gradient)) #need to be approximately 0\n",
    "print(lambda1_fun_eq(opt_lagran,F,H,f,h)) #need to be approximately 0\n",
    "print(lambda2_fun_eq(opt_lagran,F,H,f,h)) #need to be approximately 0\n"
   ]
  },
  {
   "cell_type": "code",
   "execution_count": 501,
   "id": "c69d4f6d",
   "metadata": {},
   "outputs": [
    {
     "name": "stdout",
     "output_type": "stream",
     "text": [
      "ones    1.0\n",
      "dtype: float64\n",
      "2.243021046677285e-11\n",
      "1.4210854715202004e-13\n"
     ]
    }
   ],
   "source": [
    "post_prob=post_prob/post_prob.sum() \n",
    "test_1=post_prob.T.dot(H.T)\n",
    "# Remember we have an inequality like: Ax>b\n",
    "#equal to: -Ax<-b\n",
    "#-Ax=F*p_post\n",
    "#-b=f\n",
    "#-Ax+b<0= (F*p_post - f)<0\n",
    "test_2= post_prob.T.dot(F.iloc[0].values)-f.values[0]\n",
    "test_3= post_prob.T.dot(F.iloc[1].values)-f.values[1]\n",
    "print(test_1) #the sum must be 1\n",
    "print(test_2) #the difference must be greater or equal to 0'\n",
    "print(test_3) #the difference must be greater or equal to 0\n"
   ]
  },
  {
   "cell_type": "code",
   "execution_count": 513,
   "id": "690f6ff9",
   "metadata": {},
   "outputs": [
    {
     "name": "stdout",
     "output_type": "stream",
     "text": [
      "0.09837600064314575\n",
      "-0.10606305922251781\n"
     ]
    }
   ],
   "source": [
    "expected_value=post_prob.dot(x_restricted@w)\n",
    "annualized_expected_value=expected_value*252\n",
    "volatility=np.sqrt(post_prob.dot((x_restricted@w)**2)-expected_value**2)\n",
    "annualized_volatility=volatility*np.sqrt(252)\n",
    "print(annualized_volatility)\n",
    "print(annualized_expected_value)"
   ]
  },
  {
   "cell_type": "code",
   "execution_count": 460,
   "id": "994f1187",
   "metadata": {},
   "outputs": [
    {
     "data": {
      "text/plain": [
       "S&P500         3.022885e-04\n",
       "MSCI Europe    2.870008e-04\n",
       "USD overall    1.208900e-05\n",
       "EUR overall    7.480581e-06\n",
       "Cash           1.527791e-08\n",
       "dtype: float64"
      ]
     },
     "execution_count": 460,
     "metadata": {},
     "output_type": "execute_result"
    }
   ],
   "source": [
    "((x+v_star1)*(data_sample_volat/v_star2)).std()"
   ]
  },
  {
   "cell_type": "code",
   "execution_count": 502,
   "id": "675a30a8",
   "metadata": {},
   "outputs": [
    {
     "data": {
      "text/plain": [
       "1.0"
      ]
     },
     "execution_count": 502,
     "metadata": {},
     "output_type": "execute_result"
    }
   ],
   "source": [
    "post_prob.sum()"
   ]
  },
  {
   "cell_type": "markdown",
   "id": "2e90502a",
   "metadata": {},
   "source": [
    "## Implementing the historical bootstrapping using the new set of probabilities"
   ]
  },
  {
   "cell_type": "code",
   "execution_count": 503,
   "id": "1bc30dd8",
   "metadata": {},
   "outputs": [],
   "source": [
    "#post_prob=post_prob/post_prob.sum() #the sum must be exactly one\n",
    "#the probability must be exactly one to enter in the random choice function\n",
    "if scaling_factor=='y':\n",
    "    holding_period = 2\n",
    "elif scaling_factor=='d':\n",
    "    holding_period = 252\n",
    "else:\n",
    "    holding_period = 12\n",
    "n_mc = 1000\n",
    "'Now we have to use original returns, remember we are loosing some informations to compute the rolling volatility'\n",
    "port=x.iloc[wndw-1:]@w \n",
    "aux=np.random.choice(port,(n_mc,holding_period),p=post_prob)\n",
    "#aux=np.random.choice(ptf.values,(n_mc,holding_period))"
   ]
  },
  {
   "cell_type": "markdown",
   "id": "4a1a8c81",
   "metadata": {},
   "source": [
    " ## Historical simulation\n"
   ]
  },
  {
   "cell_type": "code",
   "execution_count": 504,
   "id": "4568f973",
   "metadata": {},
   "outputs": [
    {
     "data": {
      "text/plain": [
       "Text(0.5, 1.0, 'Evolution of 1\\\\$ investment in 252 trading days (posterior scenarios) ')"
      ]
     },
     "execution_count": 504,
     "metadata": {},
     "output_type": "execute_result"
    },
    {
     "data": {
      "image/png": "[encoded data removed]",
      "text/plain": [
       "<Figure size 432x288 with 1 Axes>"
      ]
     },
     "metadata": {
      "needs_background": "light"
     },
     "output_type": "display_data"
    }
   ],
   "source": [
    "\"Each path takes one series of returns from bootstrapping, calculate cumulative returns and store data\"\n",
    "port_fr = pd.DataFrame() # to store portfolio future return\n",
    "for i in range(n_mc):\n",
    "    aux_2 = aux[i] # taking the n=1,2...N-th path of portfolio returns\n",
    "    port_fr_i = pd.DataFrame((1+aux_2).cumprod()-1) # compute cumulative returns\n",
    "    port_fr = pd.concat([port_fr, port_fr_i], axis = 1) #adding the n-th path to the dataframe as a new column\n",
    "quantile = [0.01,0.5,0.99]\n",
    "final_result = pd.DataFrame()\n",
    "for i in quantile:\n",
    "    final_result.loc[:,\"{0}\".format(str(int(i*100))+'-th'+' quantile')] = port_fr.quantile(i, axis = 1)\n",
    "#plt.plot(port_fr)\n",
    "ax=(1+final_result).plot()\n",
    "ax.set_xlabel('Holding period')\n",
    "ax.set_ylabel('Portfolio return')\n",
    "ax.set_title('Evolution of 1\\$ investment in 252 trading days (posterior scenarios) ')\n",
    "\n",
    "\n"
   ]
  },
  {
   "cell_type": "code",
   "execution_count": 505,
   "id": "a34207b3",
   "metadata": {},
   "outputs": [
    {
     "data": {
      "text/plain": [
       "Text(0.5, 1.0, 'Evolution of 1\\\\$ investment in 252 trading days (prior scenarios) ')"
      ]
     },
     "execution_count": 505,
     "metadata": {},
     "output_type": "execute_result"
    },
    {
     "data": {
      "image/png": "[encoded data removed]",
      "text/plain": [
       "<Figure size 432x288 with 1 Axes>"
      ]
     },
     "metadata": {
      "needs_background": "light"
     },
     "output_type": "display_data"
    }
   ],
   "source": [
    "n_mc = 500\n",
    "aux=np.random.choice(port,(n_mc,holding_period),p=p_0)\n",
    "#aux=np.random.choice(ptf.values,(n_mc,holding_period))\n",
    "\"Each path takes one series of returns from bootstrapping, calculate cumulative returns and store data\"\n",
    "port_fr = pd.DataFrame() # to store portfolio future return\n",
    "for i in range(n_mc):\n",
    "    aux_2 = aux[i] # taking the n=1,2...N-th path of portfolio returns\n",
    "    port_fr_i = pd.DataFrame((1+aux_2).cumprod()-1) # compute cumulative returns\n",
    "    port_fr = pd.concat([port_fr, port_fr_i], axis = 1) #adding the n-th path to the dataframe as a new column\n",
    "quantile = [0.01,0.5,0.99]\n",
    "final_result = pd.DataFrame()\n",
    "for i in quantile:\n",
    "    final_result.loc[:,\"{0}\".format(str(int(i*100))+'-th'+' quantile')] = port_fr.quantile(i, axis = 1)\n",
    "#plt.plot(port_fr)\n",
    "ax=(1+final_result).plot()\n",
    "ax.set_xlabel('Holding period')\n",
    "ax.set_ylabel('Portfolio return')\n",
    "ax.set_title('Evolution of 1\\$ investment in 252 trading days (prior scenarios) ')"
   ]
  },
  {
   "cell_type": "code",
   "execution_count": 465,
   "id": "67217eed",
   "metadata": {},
   "outputs": [
    {
     "data": {
      "text/plain": [
       "Text(0.5, 1.0, 'Evolution of 1\\\\$ investment in 252 trading days (equally weighted sccenarios) ')"
      ]
     },
     "execution_count": 465,
     "metadata": {},
     "output_type": "execute_result"
    },
    {
     "data": {
      "image/png": "[encoded data removed]",
      "text/plain": [
       "<Figure size 432x288 with 1 Axes>"
      ]
     },
     "metadata": {
      "needs_background": "light"
     },
     "output_type": "display_data"
    }
   ],
   "source": [
    "n_mc = 500\n",
    "aux=np.random.choice(port,(n_mc,holding_period))\n",
    "#aux=np.random.choice(ptf.values,(n_mc,holding_period))\n",
    "\"Each path takes one series of returns from bootstrapping, calculate cumulative returns and store data\"\n",
    "port_fr = pd.DataFrame() # to store portfolio future return\n",
    "for i in range(n_mc):\n",
    "    aux_2 = aux[i] # taking the n=1,2...N-th path of portfolio returns\n",
    "    port_fr_i = pd.DataFrame((1+aux_2).cumprod()-1) # compute cumulative returns\n",
    "    port_fr = pd.concat([port_fr, port_fr_i], axis = 1) #adding the n-th path to the dataframe as a new column\n",
    "quantile = [0.01,0.5,0.99]\n",
    "final_result = pd.DataFrame()\n",
    "for i in quantile:\n",
    "    final_result.loc[:,\"{0}\".format(str(int(i*100))+'-th'+' quantile')] = port_fr.quantile(i, axis = 1)\n",
    "#plt.plot(port_fr)\n",
    "ax=(1+final_result).plot()\n",
    "ax.set_xlabel('Holding period')\n",
    "ax.set_ylabel('Portfolio return')\n",
    "ax.set_title('Evolution of 1\\$ investment in 252 trading days (equally weighted sccenarios) ')"
   ]
  },
  {
   "cell_type": "markdown",
   "id": "4b9b6025",
   "metadata": {},
   "source": [
    "## References"
   ]
  },
  {
   "cell_type": "markdown",
   "id": "48e6bd80",
   "metadata": {},
   "source": [
    "Mixing Probabilities, Priors and Kernels via Entropy Pooling https://papers.ssrn.com/sol3/papers.cfm?abstract_id=1944303 <br>\n",
    "Fully Flexible Views: Theory and Practice https://papers.ssrn.com/sol3/papers.cfm?abstract_id=1213325"
   ]
  },
  {
   "cell_type": "markdown",
   "id": "5e51998c",
   "metadata": {},
   "source": []
  },
  {
   "cell_type": "markdown",
   "id": "2332e8ea",
   "metadata": {},
   "source": []
  },
  {
   "cell_type": "markdown",
   "id": "0d6a0509",
   "metadata": {},
   "source": []
  },
  {
   "cell_type": "markdown",
   "id": "91743991",
   "metadata": {},
   "source": []
  }
 ],
 "metadata": {
  "kernelspec": {
   "display_name": "Python 3.9.12 ('base')",
   "language": "python",
   "name": "python3"
  },
  "language_info": {
   "codemirror_mode": {
    "name": "ipython",
    "version": 3
   },
   "file_extension": ".py",
   "mimetype": "text/x-python",
   "name": "python",
   "nbconvert_exporter": "python",
   "pygments_lexer": "ipython3",
   "version": "3.9.12"
  },
  "vscode": {
   "interpreter": {
    "hash": "0318f38efd34f66a233dc4c6df2ab6f566e47d01e77740aef179e188cc41a779"
   }
  }
 },
 "nbformat": 4,
 "nbformat_minor": 5
}
